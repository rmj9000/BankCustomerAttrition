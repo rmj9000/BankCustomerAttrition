{
 "cells": [
  {
   "cell_type": "markdown",
   "id": "855f8008",
   "metadata": {},
   "source": [
    "# Exploratory Data Analysis - Bank Customer Attrition\n",
    "\n",
    "## Objectives\n",
    "\n",
    "Explore the Bank Customer Attrition dataset to investigate and carry out the following:\n",
    "\n",
    "* Identify Outliers\n",
    "* Explore feature engineering\n",
    "* Descriptive Analysis\n",
    "* Statistical Analysis"
   ]
  },
  {
   "cell_type": "markdown",
   "id": "293082e6",
   "metadata": {},
   "source": [
    "## Navigation:\n",
    "* [Readme](https://github.com/rmj9000/BankCustomerAttrition/blob/main/README.md)\n",
    "* [ 01: ETL Pipeline](https://github.com/rmj9000/BankCustomerAttrition/blob/main/jupyter_notebooks/01_etl.ipynb)\n",
    "* [03: Heat Map](https://github.com/rmj9000/BankCustomerAttrition/blob/main/jupyter_notebooks/03_heatmap.ipynb)\n",
    "* [04: Hypothesis Testing](https://github.com/rmj9000/BankCustomerAttrition/blob/main/jupyter_notebooks/04_hypothesis-testing.ipynb)\n",
    "* [05: Data Transformation for Tableau](https://github.com/rmj9000/BankCustomerAttrition/blob/main/jupyter_notebooks/05_tableau-data.ipynb)\n",
    "* [06: Tableau Dashboard](https://public.tableau.com/shared/GMW47YQH9?:display_count=n&:origin=viz_share_link)\n",
    "* [07: Raw Data](https://github.com/rmj9000/BankCustomerAttrition/blob/main/data/inputs/raw/bank_customer_attrition_insights_data.csv)\n",
    "* [08: Cleaned Data](https://github.com/rmj9000/BankCustomerAttrition/blob/main/data/inputs/cleaned_bank_data.csv)"
   ]
  },
  {
   "cell_type": "markdown",
   "id": "e631605c",
   "metadata": {},
   "source": [
    "## Inputs\n",
    "\n",
    "* data/inputs/cleaned_bank_data.csv"
   ]
  },
  {
   "cell_type": "markdown",
   "id": "f7faab55",
   "metadata": {},
   "source": [
    "## Outputs\n",
    "\n",
    "* data/inputs/cleaned_bank_data.csv (No changes made to dataset)"
   ]
  },
  {
   "cell_type": "markdown",
   "id": "46fcc813",
   "metadata": {},
   "source": [
    "___________________"
   ]
  },
  {
   "cell_type": "code",
   "execution_count": 10,
   "id": "75ee5d0c",
   "metadata": {},
   "outputs": [],
   "source": [
    "# Import necessary libraries\n",
    "import pandas as pd\n",
    "import numpy as np\n",
    "import matplotlib.pyplot as plt\n",
    "import seaborn as sns"
   ]
  },
  {
   "cell_type": "code",
   "execution_count": 11,
   "id": "033c5e79",
   "metadata": {},
   "outputs": [
    {
     "data": {
      "text/html": [
       "<div>\n",
       "<style scoped>\n",
       "    .dataframe tbody tr th:only-of-type {\n",
       "        vertical-align: middle;\n",
       "    }\n",
       "\n",
       "    .dataframe tbody tr th {\n",
       "        vertical-align: top;\n",
       "    }\n",
       "\n",
       "    .dataframe thead th {\n",
       "        text-align: right;\n",
       "    }\n",
       "</style>\n",
       "<table border=\"1\" class=\"dataframe\">\n",
       "  <thead>\n",
       "    <tr style=\"text-align: right;\">\n",
       "      <th></th>\n",
       "      <th>Unnamed: 0</th>\n",
       "      <th>RowNumber</th>\n",
       "      <th>CustomerId</th>\n",
       "      <th>CreditScore</th>\n",
       "      <th>Geography</th>\n",
       "      <th>Gender</th>\n",
       "      <th>Age</th>\n",
       "      <th>Tenure</th>\n",
       "      <th>Balance</th>\n",
       "      <th>NumOfProducts</th>\n",
       "      <th>HasCrCard</th>\n",
       "      <th>IsActiveMember</th>\n",
       "      <th>EstimatedSalary</th>\n",
       "      <th>Exited</th>\n",
       "      <th>Complain</th>\n",
       "      <th>SatisfactionScore</th>\n",
       "      <th>CardType</th>\n",
       "      <th>PointEarned</th>\n",
       "    </tr>\n",
       "  </thead>\n",
       "  <tbody>\n",
       "    <tr>\n",
       "      <th>0</th>\n",
       "      <td>0</td>\n",
       "      <td>1</td>\n",
       "      <td>15598695</td>\n",
       "      <td>619</td>\n",
       "      <td>France</td>\n",
       "      <td>Female</td>\n",
       "      <td>42</td>\n",
       "      <td>2</td>\n",
       "      <td>0.0</td>\n",
       "      <td>1</td>\n",
       "      <td>1</td>\n",
       "      <td>1</td>\n",
       "      <td>101348.88</td>\n",
       "      <td>1</td>\n",
       "      <td>1</td>\n",
       "      <td>2</td>\n",
       "      <td>DIAMOND</td>\n",
       "      <td>464</td>\n",
       "    </tr>\n",
       "  </tbody>\n",
       "</table>\n",
       "</div>"
      ],
      "text/plain": [
       "   Unnamed: 0  RowNumber  CustomerId  CreditScore Geography  Gender  Age  \\\n",
       "0           0          1    15598695          619    France  Female   42   \n",
       "\n",
       "   Tenure  Balance  NumOfProducts  HasCrCard  IsActiveMember  EstimatedSalary  \\\n",
       "0       2      0.0              1          1               1        101348.88   \n",
       "\n",
       "   Exited  Complain  SatisfactionScore CardType  PointEarned  \n",
       "0       1         1                  2  DIAMOND          464  "
      ]
     },
     "execution_count": 11,
     "metadata": {},
     "output_type": "execute_result"
    }
   ],
   "source": [
    "# Load cleaned dataset\n",
    "df = pd.read_csv('../data/inputs/cleaned_bank_data.csv')\n",
    "\n",
    "# Display first row of DataFrame\n",
    "df.head(1)"
   ]
  },
  {
   "cell_type": "markdown",
   "id": "d5b06892",
   "metadata": {},
   "source": [
    "_____________________"
   ]
  },
  {
   "cell_type": "markdown",
   "id": "12aac2ba",
   "metadata": {},
   "source": [
    "## Statistical Analysis"
   ]
  },
  {
   "cell_type": "markdown",
   "id": "93c85096",
   "metadata": {},
   "source": [
    "Explore the basic statistics from the cleaned datatset."
   ]
  },
  {
   "cell_type": "code",
   "execution_count": 12,
   "id": "376e2f86",
   "metadata": {},
   "outputs": [
    {
     "data": {
      "text/html": [
       "<div>\n",
       "<style scoped>\n",
       "    .dataframe tbody tr th:only-of-type {\n",
       "        vertical-align: middle;\n",
       "    }\n",
       "\n",
       "    .dataframe tbody tr th {\n",
       "        vertical-align: top;\n",
       "    }\n",
       "\n",
       "    .dataframe thead th {\n",
       "        text-align: right;\n",
       "    }\n",
       "</style>\n",
       "<table border=\"1\" class=\"dataframe\">\n",
       "  <thead>\n",
       "    <tr style=\"text-align: right;\">\n",
       "      <th></th>\n",
       "      <th>Geography</th>\n",
       "      <th>Gender</th>\n",
       "      <th>CardType</th>\n",
       "    </tr>\n",
       "  </thead>\n",
       "  <tbody>\n",
       "    <tr>\n",
       "      <th>count</th>\n",
       "      <td>10000</td>\n",
       "      <td>10000</td>\n",
       "      <td>10000</td>\n",
       "    </tr>\n",
       "    <tr>\n",
       "      <th>unique</th>\n",
       "      <td>3</td>\n",
       "      <td>2</td>\n",
       "      <td>4</td>\n",
       "    </tr>\n",
       "    <tr>\n",
       "      <th>top</th>\n",
       "      <td>France</td>\n",
       "      <td>Male</td>\n",
       "      <td>DIAMOND</td>\n",
       "    </tr>\n",
       "    <tr>\n",
       "      <th>freq</th>\n",
       "      <td>5014</td>\n",
       "      <td>5457</td>\n",
       "      <td>2507</td>\n",
       "    </tr>\n",
       "  </tbody>\n",
       "</table>\n",
       "</div>"
      ],
      "text/plain": [
       "       Geography Gender CardType\n",
       "count      10000  10000    10000\n",
       "unique         3      2        4\n",
       "top       France   Male  DIAMOND\n",
       "freq        5014   5457     2507"
      ]
     },
     "metadata": {},
     "output_type": "display_data"
    }
   ],
   "source": [
    "# Display basic statistics of the DataFrame\n",
    "categorical_stats = df.describe(include='object')\n",
    "display(categorical_stats)"
   ]
  },
  {
   "cell_type": "markdown",
   "id": "a547414d",
   "metadata": {},
   "source": [
    "**Observations:**\n",
    "\n",
    "* **Geography** - There are three unique entries within the column, which reveals the dataset based on customers across 3 countries. With the most customers living in France, as French customers make up 5014 of the 10000 entries. \n",
    "\n",
    "* **Gender** - The initial exploration reveals there are a greater number of male customers than female customers. The male customer population makes up 5457 of the 10000 entries.\n",
    "\n",
    "* **Card Type** - There are 4 different card types, with DIAMOND being the most popular among all customers. The DIAMOND card holder population makes up 2507 of the 10000 entries. "
   ]
  },
  {
   "cell_type": "markdown",
   "id": "e9e328c2",
   "metadata": {},
   "source": [
    "Investigate the mean, median, standard deviation and range of the dataset."
   ]
  },
  {
   "cell_type": "code",
   "execution_count": 13,
   "id": "19aade94",
   "metadata": {},
   "outputs": [
    {
     "data": {
      "text/html": [
       "<style type=\"text/css\">\n",
       "#T_6a2ce_row0_col0, #T_6a2ce_row0_col1, #T_6a2ce_row0_col3, #T_6a2ce_row0_col4, #T_6a2ce_row0_col5, #T_6a2ce_row0_col7, #T_6a2ce_row0_col8, #T_6a2ce_row0_col9, #T_6a2ce_row0_col11, #T_6a2ce_row0_col12, #T_6a2ce_row0_col13, #T_6a2ce_row0_col14, #T_6a2ce_row7_col0, #T_6a2ce_row7_col1, #T_6a2ce_row7_col2, #T_6a2ce_row7_col6, #T_6a2ce_row7_col10 {\n",
       "  background-color: #08306b;\n",
       "  color: #f1f1f1;\n",
       "}\n",
       "#T_6a2ce_row0_col2, #T_6a2ce_row1_col4, #T_6a2ce_row1_col5, #T_6a2ce_row1_col7, #T_6a2ce_row1_col8, #T_6a2ce_row1_col9, #T_6a2ce_row1_col11, #T_6a2ce_row1_col12, #T_6a2ce_row1_col13, #T_6a2ce_row2_col3, #T_6a2ce_row2_col4, #T_6a2ce_row2_col5, #T_6a2ce_row2_col7, #T_6a2ce_row2_col8, #T_6a2ce_row2_col9, #T_6a2ce_row2_col11, #T_6a2ce_row2_col12, #T_6a2ce_row2_col13, #T_6a2ce_row3_col0, #T_6a2ce_row3_col1, #T_6a2ce_row3_col4, #T_6a2ce_row3_col5, #T_6a2ce_row3_col6, #T_6a2ce_row3_col7, #T_6a2ce_row3_col8, #T_6a2ce_row3_col9, #T_6a2ce_row3_col10, #T_6a2ce_row3_col11, #T_6a2ce_row3_col12, #T_6a2ce_row3_col13, #T_6a2ce_row3_col14, #T_6a2ce_row4_col4, #T_6a2ce_row4_col5, #T_6a2ce_row4_col6, #T_6a2ce_row4_col7, #T_6a2ce_row4_col8, #T_6a2ce_row4_col9, #T_6a2ce_row4_col11, #T_6a2ce_row4_col12, #T_6a2ce_row4_col13, #T_6a2ce_row5_col4, #T_6a2ce_row5_col5, #T_6a2ce_row5_col7, #T_6a2ce_row5_col8, #T_6a2ce_row5_col9, #T_6a2ce_row5_col11, #T_6a2ce_row5_col12, #T_6a2ce_row5_col13, #T_6a2ce_row6_col4, #T_6a2ce_row6_col5, #T_6a2ce_row6_col7, #T_6a2ce_row6_col8, #T_6a2ce_row6_col9, #T_6a2ce_row6_col11, #T_6a2ce_row6_col12, #T_6a2ce_row6_col13, #T_6a2ce_row7_col5, #T_6a2ce_row7_col7, #T_6a2ce_row7_col8, #T_6a2ce_row7_col9, #T_6a2ce_row7_col11, #T_6a2ce_row7_col12, #T_6a2ce_row7_col13 {\n",
       "  background-color: #f7fbff;\n",
       "  color: #000000;\n",
       "}\n",
       "#T_6a2ce_row0_col6 {\n",
       "  background-color: #eff6fc;\n",
       "  color: #000000;\n",
       "}\n",
       "#T_6a2ce_row0_col10, #T_6a2ce_row1_col14, #T_6a2ce_row4_col3, #T_6a2ce_row5_col14 {\n",
       "  background-color: #eef5fc;\n",
       "  color: #000000;\n",
       "}\n",
       "#T_6a2ce_row1_col0, #T_6a2ce_row5_col0 {\n",
       "  background-color: #6caed6;\n",
       "  color: #f1f1f1;\n",
       "}\n",
       "#T_6a2ce_row1_col1, #T_6a2ce_row1_col10, #T_6a2ce_row5_col1, #T_6a2ce_row5_col10 {\n",
       "  background-color: #6aaed6;\n",
       "  color: #f1f1f1;\n",
       "}\n",
       "#T_6a2ce_row1_col2, #T_6a2ce_row5_col2 {\n",
       "  background-color: #08326e;\n",
       "  color: #f1f1f1;\n",
       "}\n",
       "#T_6a2ce_row1_col3, #T_6a2ce_row5_col3 {\n",
       "  background-color: #ecf4fb;\n",
       "  color: #000000;\n",
       "}\n",
       "#T_6a2ce_row1_col6 {\n",
       "  background-color: #b4d3e9;\n",
       "  color: #000000;\n",
       "}\n",
       "#T_6a2ce_row2_col0, #T_6a2ce_row2_col1, #T_6a2ce_row2_col10 {\n",
       "  background-color: #bad6eb;\n",
       "  color: #000000;\n",
       "}\n",
       "#T_6a2ce_row2_col2 {\n",
       "  background-color: #f6faff;\n",
       "  color: #000000;\n",
       "}\n",
       "#T_6a2ce_row2_col6, #T_6a2ce_row4_col0 {\n",
       "  background-color: #c7dbef;\n",
       "  color: #000000;\n",
       "}\n",
       "#T_6a2ce_row2_col14, #T_6a2ce_row7_col4 {\n",
       "  background-color: #f5fafe;\n",
       "  color: #000000;\n",
       "}\n",
       "#T_6a2ce_row3_col2 {\n",
       "  background-color: #083471;\n",
       "  color: #f1f1f1;\n",
       "}\n",
       "#T_6a2ce_row3_col3 {\n",
       "  background-color: #f2f8fd;\n",
       "  color: #000000;\n",
       "}\n",
       "#T_6a2ce_row4_col1 {\n",
       "  background-color: #c6dbef;\n",
       "  color: #000000;\n",
       "}\n",
       "#T_6a2ce_row4_col2 {\n",
       "  background-color: #083370;\n",
       "  color: #f1f1f1;\n",
       "}\n",
       "#T_6a2ce_row4_col10 {\n",
       "  background-color: #c4daee;\n",
       "  color: #000000;\n",
       "}\n",
       "#T_6a2ce_row4_col14 {\n",
       "  background-color: #f2f7fd;\n",
       "  color: #000000;\n",
       "}\n",
       "#T_6a2ce_row5_col6 {\n",
       "  background-color: #99c7e0;\n",
       "  color: #000000;\n",
       "}\n",
       "#T_6a2ce_row6_col0, #T_6a2ce_row6_col10 {\n",
       "  background-color: #2171b5;\n",
       "  color: #f1f1f1;\n",
       "}\n",
       "#T_6a2ce_row6_col1 {\n",
       "  background-color: #2070b4;\n",
       "  color: #f1f1f1;\n",
       "}\n",
       "#T_6a2ce_row6_col2 {\n",
       "  background-color: #08316d;\n",
       "  color: #f1f1f1;\n",
       "}\n",
       "#T_6a2ce_row6_col3 {\n",
       "  background-color: #eaf3fb;\n",
       "  color: #000000;\n",
       "}\n",
       "#T_6a2ce_row6_col6 {\n",
       "  background-color: #68acd5;\n",
       "  color: #f1f1f1;\n",
       "}\n",
       "#T_6a2ce_row6_col14 {\n",
       "  background-color: #eaf2fb;\n",
       "  color: #000000;\n",
       "}\n",
       "#T_6a2ce_row7_col3 {\n",
       "  background-color: #e8f1fa;\n",
       "  color: #000000;\n",
       "}\n",
       "#T_6a2ce_row7_col14 {\n",
       "  background-color: #e6f0f9;\n",
       "  color: #000000;\n",
       "}\n",
       "</style>\n",
       "<table id=\"T_6a2ce\">\n",
       "  <thead>\n",
       "    <tr>\n",
       "      <th class=\"blank level0\" >&nbsp;</th>\n",
       "      <th id=\"T_6a2ce_level0_col0\" class=\"col_heading level0 col0\" >Unnamed: 0</th>\n",
       "      <th id=\"T_6a2ce_level0_col1\" class=\"col_heading level0 col1\" >RowNumber</th>\n",
       "      <th id=\"T_6a2ce_level0_col2\" class=\"col_heading level0 col2\" >CustomerId</th>\n",
       "      <th id=\"T_6a2ce_level0_col3\" class=\"col_heading level0 col3\" >CreditScore</th>\n",
       "      <th id=\"T_6a2ce_level0_col4\" class=\"col_heading level0 col4\" >Age</th>\n",
       "      <th id=\"T_6a2ce_level0_col5\" class=\"col_heading level0 col5\" >Tenure</th>\n",
       "      <th id=\"T_6a2ce_level0_col6\" class=\"col_heading level0 col6\" >Balance</th>\n",
       "      <th id=\"T_6a2ce_level0_col7\" class=\"col_heading level0 col7\" >NumOfProducts</th>\n",
       "      <th id=\"T_6a2ce_level0_col8\" class=\"col_heading level0 col8\" >HasCrCard</th>\n",
       "      <th id=\"T_6a2ce_level0_col9\" class=\"col_heading level0 col9\" >IsActiveMember</th>\n",
       "      <th id=\"T_6a2ce_level0_col10\" class=\"col_heading level0 col10\" >EstimatedSalary</th>\n",
       "      <th id=\"T_6a2ce_level0_col11\" class=\"col_heading level0 col11\" >Exited</th>\n",
       "      <th id=\"T_6a2ce_level0_col12\" class=\"col_heading level0 col12\" >Complain</th>\n",
       "      <th id=\"T_6a2ce_level0_col13\" class=\"col_heading level0 col13\" >SatisfactionScore</th>\n",
       "      <th id=\"T_6a2ce_level0_col14\" class=\"col_heading level0 col14\" >PointEarned</th>\n",
       "    </tr>\n",
       "  </thead>\n",
       "  <tbody>\n",
       "    <tr>\n",
       "      <th id=\"T_6a2ce_level0_row0\" class=\"row_heading level0 row0\" >count</th>\n",
       "      <td id=\"T_6a2ce_row0_col0\" class=\"data row0 col0\" >10000.000000</td>\n",
       "      <td id=\"T_6a2ce_row0_col1\" class=\"data row0 col1\" >10000.000000</td>\n",
       "      <td id=\"T_6a2ce_row0_col2\" class=\"data row0 col2\" >10000.000000</td>\n",
       "      <td id=\"T_6a2ce_row0_col3\" class=\"data row0 col3\" >10000.000000</td>\n",
       "      <td id=\"T_6a2ce_row0_col4\" class=\"data row0 col4\" >10000.000000</td>\n",
       "      <td id=\"T_6a2ce_row0_col5\" class=\"data row0 col5\" >10000.000000</td>\n",
       "      <td id=\"T_6a2ce_row0_col6\" class=\"data row0 col6\" >10000.000000</td>\n",
       "      <td id=\"T_6a2ce_row0_col7\" class=\"data row0 col7\" >10000.000000</td>\n",
       "      <td id=\"T_6a2ce_row0_col8\" class=\"data row0 col8\" >10000.000000</td>\n",
       "      <td id=\"T_6a2ce_row0_col9\" class=\"data row0 col9\" >10000.000000</td>\n",
       "      <td id=\"T_6a2ce_row0_col10\" class=\"data row0 col10\" >10000.000000</td>\n",
       "      <td id=\"T_6a2ce_row0_col11\" class=\"data row0 col11\" >10000.000000</td>\n",
       "      <td id=\"T_6a2ce_row0_col12\" class=\"data row0 col12\" >10000.000000</td>\n",
       "      <td id=\"T_6a2ce_row0_col13\" class=\"data row0 col13\" >10000.000000</td>\n",
       "      <td id=\"T_6a2ce_row0_col14\" class=\"data row0 col14\" >10000.000000</td>\n",
       "    </tr>\n",
       "    <tr>\n",
       "      <th id=\"T_6a2ce_level0_row1\" class=\"row_heading level0 row1\" >mean</th>\n",
       "      <td id=\"T_6a2ce_row1_col0\" class=\"data row1 col0\" >4999.500000</td>\n",
       "      <td id=\"T_6a2ce_row1_col1\" class=\"data row1 col1\" >5000.500000</td>\n",
       "      <td id=\"T_6a2ce_row1_col2\" class=\"data row1 col2\" >15690940.569400</td>\n",
       "      <td id=\"T_6a2ce_row1_col3\" class=\"data row1 col3\" >650.528800</td>\n",
       "      <td id=\"T_6a2ce_row1_col4\" class=\"data row1 col4\" >38.921800</td>\n",
       "      <td id=\"T_6a2ce_row1_col5\" class=\"data row1 col5\" >5.012800</td>\n",
       "      <td id=\"T_6a2ce_row1_col6\" class=\"data row1 col6\" >76485.889288</td>\n",
       "      <td id=\"T_6a2ce_row1_col7\" class=\"data row1 col7\" >1.530200</td>\n",
       "      <td id=\"T_6a2ce_row1_col8\" class=\"data row1 col8\" >0.705500</td>\n",
       "      <td id=\"T_6a2ce_row1_col9\" class=\"data row1 col9\" >0.515100</td>\n",
       "      <td id=\"T_6a2ce_row1_col10\" class=\"data row1 col10\" >100090.239881</td>\n",
       "      <td id=\"T_6a2ce_row1_col11\" class=\"data row1 col11\" >0.203800</td>\n",
       "      <td id=\"T_6a2ce_row1_col12\" class=\"data row1 col12\" >0.204400</td>\n",
       "      <td id=\"T_6a2ce_row1_col13\" class=\"data row1 col13\" >3.013800</td>\n",
       "      <td id=\"T_6a2ce_row1_col14\" class=\"data row1 col14\" >606.515100</td>\n",
       "    </tr>\n",
       "    <tr>\n",
       "      <th id=\"T_6a2ce_level0_row2\" class=\"row_heading level0 row2\" >std</th>\n",
       "      <td id=\"T_6a2ce_row2_col0\" class=\"data row2 col0\" >2886.895680</td>\n",
       "      <td id=\"T_6a2ce_row2_col1\" class=\"data row2 col1\" >2886.895680</td>\n",
       "      <td id=\"T_6a2ce_row2_col2\" class=\"data row2 col2\" >71936.186123</td>\n",
       "      <td id=\"T_6a2ce_row2_col3\" class=\"data row2 col3\" >96.653299</td>\n",
       "      <td id=\"T_6a2ce_row2_col4\" class=\"data row2 col4\" >10.487806</td>\n",
       "      <td id=\"T_6a2ce_row2_col5\" class=\"data row2 col5\" >2.892174</td>\n",
       "      <td id=\"T_6a2ce_row2_col6\" class=\"data row2 col6\" >62397.405202</td>\n",
       "      <td id=\"T_6a2ce_row2_col7\" class=\"data row2 col7\" >0.581654</td>\n",
       "      <td id=\"T_6a2ce_row2_col8\" class=\"data row2 col8\" >0.455840</td>\n",
       "      <td id=\"T_6a2ce_row2_col9\" class=\"data row2 col9\" >0.499797</td>\n",
       "      <td id=\"T_6a2ce_row2_col10\" class=\"data row2 col10\" >57510.492818</td>\n",
       "      <td id=\"T_6a2ce_row2_col11\" class=\"data row2 col11\" >0.402842</td>\n",
       "      <td id=\"T_6a2ce_row2_col12\" class=\"data row2 col12\" >0.403283</td>\n",
       "      <td id=\"T_6a2ce_row2_col13\" class=\"data row2 col13\" >1.405919</td>\n",
       "      <td id=\"T_6a2ce_row2_col14\" class=\"data row2 col14\" >225.924839</td>\n",
       "    </tr>\n",
       "    <tr>\n",
       "      <th id=\"T_6a2ce_level0_row3\" class=\"row_heading level0 row3\" >min</th>\n",
       "      <td id=\"T_6a2ce_row3_col0\" class=\"data row3 col0\" >0.000000</td>\n",
       "      <td id=\"T_6a2ce_row3_col1\" class=\"data row3 col1\" >1.000000</td>\n",
       "      <td id=\"T_6a2ce_row3_col2\" class=\"data row3 col2\" >15565701.000000</td>\n",
       "      <td id=\"T_6a2ce_row3_col3\" class=\"data row3 col3\" >350.000000</td>\n",
       "      <td id=\"T_6a2ce_row3_col4\" class=\"data row3 col4\" >18.000000</td>\n",
       "      <td id=\"T_6a2ce_row3_col5\" class=\"data row3 col5\" >0.000000</td>\n",
       "      <td id=\"T_6a2ce_row3_col6\" class=\"data row3 col6\" >0.000000</td>\n",
       "      <td id=\"T_6a2ce_row3_col7\" class=\"data row3 col7\" >1.000000</td>\n",
       "      <td id=\"T_6a2ce_row3_col8\" class=\"data row3 col8\" >0.000000</td>\n",
       "      <td id=\"T_6a2ce_row3_col9\" class=\"data row3 col9\" >0.000000</td>\n",
       "      <td id=\"T_6a2ce_row3_col10\" class=\"data row3 col10\" >11.580000</td>\n",
       "      <td id=\"T_6a2ce_row3_col11\" class=\"data row3 col11\" >0.000000</td>\n",
       "      <td id=\"T_6a2ce_row3_col12\" class=\"data row3 col12\" >0.000000</td>\n",
       "      <td id=\"T_6a2ce_row3_col13\" class=\"data row3 col13\" >1.000000</td>\n",
       "      <td id=\"T_6a2ce_row3_col14\" class=\"data row3 col14\" >119.000000</td>\n",
       "    </tr>\n",
       "    <tr>\n",
       "      <th id=\"T_6a2ce_level0_row4\" class=\"row_heading level0 row4\" >25%</th>\n",
       "      <td id=\"T_6a2ce_row4_col0\" class=\"data row4 col0\" >2499.750000</td>\n",
       "      <td id=\"T_6a2ce_row4_col1\" class=\"data row4 col1\" >2500.750000</td>\n",
       "      <td id=\"T_6a2ce_row4_col2\" class=\"data row4 col2\" >15628528.250000</td>\n",
       "      <td id=\"T_6a2ce_row4_col3\" class=\"data row4 col3\" >584.000000</td>\n",
       "      <td id=\"T_6a2ce_row4_col4\" class=\"data row4 col4\" >32.000000</td>\n",
       "      <td id=\"T_6a2ce_row4_col5\" class=\"data row4 col5\" >3.000000</td>\n",
       "      <td id=\"T_6a2ce_row4_col6\" class=\"data row4 col6\" >0.000000</td>\n",
       "      <td id=\"T_6a2ce_row4_col7\" class=\"data row4 col7\" >1.000000</td>\n",
       "      <td id=\"T_6a2ce_row4_col8\" class=\"data row4 col8\" >0.000000</td>\n",
       "      <td id=\"T_6a2ce_row4_col9\" class=\"data row4 col9\" >0.000000</td>\n",
       "      <td id=\"T_6a2ce_row4_col10\" class=\"data row4 col10\" >51002.110000</td>\n",
       "      <td id=\"T_6a2ce_row4_col11\" class=\"data row4 col11\" >0.000000</td>\n",
       "      <td id=\"T_6a2ce_row4_col12\" class=\"data row4 col12\" >0.000000</td>\n",
       "      <td id=\"T_6a2ce_row4_col13\" class=\"data row4 col13\" >2.000000</td>\n",
       "      <td id=\"T_6a2ce_row4_col14\" class=\"data row4 col14\" >410.000000</td>\n",
       "    </tr>\n",
       "    <tr>\n",
       "      <th id=\"T_6a2ce_level0_row5\" class=\"row_heading level0 row5\" >50%</th>\n",
       "      <td id=\"T_6a2ce_row5_col0\" class=\"data row5 col0\" >4999.500000</td>\n",
       "      <td id=\"T_6a2ce_row5_col1\" class=\"data row5 col1\" >5000.500000</td>\n",
       "      <td id=\"T_6a2ce_row5_col2\" class=\"data row5 col2\" >15690738.000000</td>\n",
       "      <td id=\"T_6a2ce_row5_col3\" class=\"data row5 col3\" >652.000000</td>\n",
       "      <td id=\"T_6a2ce_row5_col4\" class=\"data row5 col4\" >37.000000</td>\n",
       "      <td id=\"T_6a2ce_row5_col5\" class=\"data row5 col5\" >5.000000</td>\n",
       "      <td id=\"T_6a2ce_row5_col6\" class=\"data row5 col6\" >97198.540000</td>\n",
       "      <td id=\"T_6a2ce_row5_col7\" class=\"data row5 col7\" >1.000000</td>\n",
       "      <td id=\"T_6a2ce_row5_col8\" class=\"data row5 col8\" >1.000000</td>\n",
       "      <td id=\"T_6a2ce_row5_col9\" class=\"data row5 col9\" >1.000000</td>\n",
       "      <td id=\"T_6a2ce_row5_col10\" class=\"data row5 col10\" >100193.915000</td>\n",
       "      <td id=\"T_6a2ce_row5_col11\" class=\"data row5 col11\" >0.000000</td>\n",
       "      <td id=\"T_6a2ce_row5_col12\" class=\"data row5 col12\" >0.000000</td>\n",
       "      <td id=\"T_6a2ce_row5_col13\" class=\"data row5 col13\" >3.000000</td>\n",
       "      <td id=\"T_6a2ce_row5_col14\" class=\"data row5 col14\" >605.000000</td>\n",
       "    </tr>\n",
       "    <tr>\n",
       "      <th id=\"T_6a2ce_level0_row6\" class=\"row_heading level0 row6\" >75%</th>\n",
       "      <td id=\"T_6a2ce_row6_col0\" class=\"data row6 col0\" >7499.250000</td>\n",
       "      <td id=\"T_6a2ce_row6_col1\" class=\"data row6 col1\" >7500.250000</td>\n",
       "      <td id=\"T_6a2ce_row6_col2\" class=\"data row6 col2\" >15753233.750000</td>\n",
       "      <td id=\"T_6a2ce_row6_col3\" class=\"data row6 col3\" >718.000000</td>\n",
       "      <td id=\"T_6a2ce_row6_col4\" class=\"data row6 col4\" >44.000000</td>\n",
       "      <td id=\"T_6a2ce_row6_col5\" class=\"data row6 col5\" >7.000000</td>\n",
       "      <td id=\"T_6a2ce_row6_col6\" class=\"data row6 col6\" >127644.240000</td>\n",
       "      <td id=\"T_6a2ce_row6_col7\" class=\"data row6 col7\" >2.000000</td>\n",
       "      <td id=\"T_6a2ce_row6_col8\" class=\"data row6 col8\" >1.000000</td>\n",
       "      <td id=\"T_6a2ce_row6_col9\" class=\"data row6 col9\" >1.000000</td>\n",
       "      <td id=\"T_6a2ce_row6_col10\" class=\"data row6 col10\" >149388.247500</td>\n",
       "      <td id=\"T_6a2ce_row6_col11\" class=\"data row6 col11\" >0.000000</td>\n",
       "      <td id=\"T_6a2ce_row6_col12\" class=\"data row6 col12\" >0.000000</td>\n",
       "      <td id=\"T_6a2ce_row6_col13\" class=\"data row6 col13\" >4.000000</td>\n",
       "      <td id=\"T_6a2ce_row6_col14\" class=\"data row6 col14\" >801.000000</td>\n",
       "    </tr>\n",
       "    <tr>\n",
       "      <th id=\"T_6a2ce_level0_row7\" class=\"row_heading level0 row7\" >max</th>\n",
       "      <td id=\"T_6a2ce_row7_col0\" class=\"data row7 col0\" >9999.000000</td>\n",
       "      <td id=\"T_6a2ce_row7_col1\" class=\"data row7 col1\" >10000.000000</td>\n",
       "      <td id=\"T_6a2ce_row7_col2\" class=\"data row7 col2\" >15815690.000000</td>\n",
       "      <td id=\"T_6a2ce_row7_col3\" class=\"data row7 col3\" >850.000000</td>\n",
       "      <td id=\"T_6a2ce_row7_col4\" class=\"data row7 col4\" >92.000000</td>\n",
       "      <td id=\"T_6a2ce_row7_col5\" class=\"data row7 col5\" >10.000000</td>\n",
       "      <td id=\"T_6a2ce_row7_col6\" class=\"data row7 col6\" >250898.090000</td>\n",
       "      <td id=\"T_6a2ce_row7_col7\" class=\"data row7 col7\" >4.000000</td>\n",
       "      <td id=\"T_6a2ce_row7_col8\" class=\"data row7 col8\" >1.000000</td>\n",
       "      <td id=\"T_6a2ce_row7_col9\" class=\"data row7 col9\" >1.000000</td>\n",
       "      <td id=\"T_6a2ce_row7_col10\" class=\"data row7 col10\" >199992.480000</td>\n",
       "      <td id=\"T_6a2ce_row7_col11\" class=\"data row7 col11\" >1.000000</td>\n",
       "      <td id=\"T_6a2ce_row7_col12\" class=\"data row7 col12\" >1.000000</td>\n",
       "      <td id=\"T_6a2ce_row7_col13\" class=\"data row7 col13\" >5.000000</td>\n",
       "      <td id=\"T_6a2ce_row7_col14\" class=\"data row7 col14\" >1000.000000</td>\n",
       "    </tr>\n",
       "  </tbody>\n",
       "</table>\n"
      ],
      "text/plain": [
       "<pandas.io.formats.style.Styler at 0x20f324871a0>"
      ]
     },
     "metadata": {},
     "output_type": "display_data"
    }
   ],
   "source": [
    "# Perform basic statistical analysis\n",
    "summary_stats = df.describe()\n",
    "styled_summary_stats = summary_stats.style.background_gradient(cmap='Blues')\n",
    "display(styled_summary_stats)"
   ]
  },
  {
   "cell_type": "markdown",
   "id": "3ccd3f8b",
   "metadata": {},
   "source": [
    "**Analysis Summary**:\n",
    "\n",
    "This summary is based on the numeric columns relevant to the 3 hypotheses for the project.\n",
    "\n",
    "**CreditScore:**\n",
    "\n",
    "* **Mean** = 650.52\n",
    "\n",
    "* **Median** = 652\n",
    "\n",
    "* **Standard Deviation** = 96.65. This value suggest there is a great amount of variation between credit scores, which are both significantly above and below the mean credit score. \n",
    "\n",
    "* **Range** = 350 - 850. The range reflects the distribution of credit scores within the dataset.\n",
    "\n",
    "\n",
    "**NumOfProducts:**\n",
    "\n",
    "* **Mean** = 1.53\n",
    "\n",
    "* **Median** = 1.00\n",
    "\n",
    "* **Standard Deviation** = 1.00. This value is low which suggests there isn't much variability within this column (as expected as there are only 4 unique values).\n",
    "\n",
    "* **Range** = 1 - 4. The range indicates that there are 4 different card types for a customer to hold. \n",
    "\n",
    "\n",
    "**PointsEarned:**\n",
    "\n",
    "* **Mean** = 606.51\n",
    "\n",
    "* **Median** = 605\n",
    "\n",
    "* **Standard Deviation** = 225.92. This value is very high which suggest there is significant variability among the amount of points a customer has earned. \n",
    "\n",
    "* **Range** = 119 - 1000. This reflects the vast distributions of points earned among the dataset population. "
   ]
  },
  {
   "cell_type": "markdown",
   "id": "a089417a",
   "metadata": {},
   "source": [
    "_________________"
   ]
  },
  {
   "cell_type": "markdown",
   "id": "fbd3d8aa",
   "metadata": {},
   "source": [
    "## Explore Feature Engineering\n",
    "\n",
    "Feature engineering will be explored in the notebook to identify the best strategies, to be implemented into the ETL pipeline."
   ]
  },
  {
   "cell_type": "markdown",
   "id": "30e28973",
   "metadata": {},
   "source": [
    "Create a new column to group continuous age values for improved interpretability, enhanced analysis and simplified modelling."
   ]
  },
  {
   "cell_type": "markdown",
   "id": "52dd05f3",
   "metadata": {},
   "source": [
    "Group age into the following bins:\n",
    "\n",
    "* 18-29\n",
    "* 30-39\n",
    "* 40-49\n",
    "* 50-59\n",
    "* 60-69\n",
    "* 70 +"
   ]
  },
  {
   "cell_type": "code",
   "execution_count": 14,
   "id": "ace8a27b",
   "metadata": {},
   "outputs": [],
   "source": [
    "# Group age into bins\n",
    "# Define the bins and labels for age groups\n",
    "bins = [ 18, 30, 40, 50, 60, 70, np.inf]\n",
    "labels = ['18-29', '30-39', '40-49', '50-59', '60-69', '70+']\n",
    "\n",
    "# Create a new column 'AgeGroup' in the DataFrame (CoPilot Assitance)\n",
    "df ['AgeGroup'] = pd.cut(df['Age'], bins=bins, labels=labels, right=False)\n"
   ]
  },
  {
   "cell_type": "code",
   "execution_count": 15,
   "id": "34c228b8",
   "metadata": {},
   "outputs": [
    {
     "data": {
      "text/html": [
       "<div>\n",
       "<style scoped>\n",
       "    .dataframe tbody tr th:only-of-type {\n",
       "        vertical-align: middle;\n",
       "    }\n",
       "\n",
       "    .dataframe tbody tr th {\n",
       "        vertical-align: top;\n",
       "    }\n",
       "\n",
       "    .dataframe thead th {\n",
       "        text-align: right;\n",
       "    }\n",
       "</style>\n",
       "<table border=\"1\" class=\"dataframe\">\n",
       "  <thead>\n",
       "    <tr style=\"text-align: right;\">\n",
       "      <th></th>\n",
       "      <th>Unnamed: 0</th>\n",
       "      <th>RowNumber</th>\n",
       "      <th>CustomerId</th>\n",
       "      <th>CreditScore</th>\n",
       "      <th>Geography</th>\n",
       "      <th>Gender</th>\n",
       "      <th>Age</th>\n",
       "      <th>Tenure</th>\n",
       "      <th>Balance</th>\n",
       "      <th>NumOfProducts</th>\n",
       "      <th>HasCrCard</th>\n",
       "      <th>IsActiveMember</th>\n",
       "      <th>EstimatedSalary</th>\n",
       "      <th>Exited</th>\n",
       "      <th>Complain</th>\n",
       "      <th>SatisfactionScore</th>\n",
       "      <th>CardType</th>\n",
       "      <th>PointEarned</th>\n",
       "      <th>AgeGroup</th>\n",
       "    </tr>\n",
       "  </thead>\n",
       "  <tbody>\n",
       "    <tr>\n",
       "      <th>0</th>\n",
       "      <td>0</td>\n",
       "      <td>1</td>\n",
       "      <td>15598695</td>\n",
       "      <td>619</td>\n",
       "      <td>France</td>\n",
       "      <td>Female</td>\n",
       "      <td>42</td>\n",
       "      <td>2</td>\n",
       "      <td>0.00</td>\n",
       "      <td>1</td>\n",
       "      <td>1</td>\n",
       "      <td>1</td>\n",
       "      <td>101348.88</td>\n",
       "      <td>1</td>\n",
       "      <td>1</td>\n",
       "      <td>2</td>\n",
       "      <td>DIAMOND</td>\n",
       "      <td>464</td>\n",
       "      <td>40-49</td>\n",
       "    </tr>\n",
       "    <tr>\n",
       "      <th>1</th>\n",
       "      <td>1</td>\n",
       "      <td>2</td>\n",
       "      <td>15649354</td>\n",
       "      <td>608</td>\n",
       "      <td>Spain</td>\n",
       "      <td>Female</td>\n",
       "      <td>41</td>\n",
       "      <td>1</td>\n",
       "      <td>83807.86</td>\n",
       "      <td>1</td>\n",
       "      <td>0</td>\n",
       "      <td>1</td>\n",
       "      <td>112542.58</td>\n",
       "      <td>0</td>\n",
       "      <td>1</td>\n",
       "      <td>3</td>\n",
       "      <td>DIAMOND</td>\n",
       "      <td>456</td>\n",
       "      <td>40-49</td>\n",
       "    </tr>\n",
       "    <tr>\n",
       "      <th>2</th>\n",
       "      <td>2</td>\n",
       "      <td>3</td>\n",
       "      <td>15737556</td>\n",
       "      <td>502</td>\n",
       "      <td>France</td>\n",
       "      <td>Female</td>\n",
       "      <td>42</td>\n",
       "      <td>8</td>\n",
       "      <td>159660.80</td>\n",
       "      <td>3</td>\n",
       "      <td>1</td>\n",
       "      <td>0</td>\n",
       "      <td>113931.57</td>\n",
       "      <td>1</td>\n",
       "      <td>1</td>\n",
       "      <td>3</td>\n",
       "      <td>DIAMOND</td>\n",
       "      <td>377</td>\n",
       "      <td>40-49</td>\n",
       "    </tr>\n",
       "    <tr>\n",
       "      <th>3</th>\n",
       "      <td>3</td>\n",
       "      <td>4</td>\n",
       "      <td>15671610</td>\n",
       "      <td>699</td>\n",
       "      <td>France</td>\n",
       "      <td>Female</td>\n",
       "      <td>39</td>\n",
       "      <td>1</td>\n",
       "      <td>0.00</td>\n",
       "      <td>2</td>\n",
       "      <td>0</td>\n",
       "      <td>0</td>\n",
       "      <td>93826.63</td>\n",
       "      <td>0</td>\n",
       "      <td>0</td>\n",
       "      <td>5</td>\n",
       "      <td>GOLD</td>\n",
       "      <td>350</td>\n",
       "      <td>30-39</td>\n",
       "    </tr>\n",
       "    <tr>\n",
       "      <th>4</th>\n",
       "      <td>4</td>\n",
       "      <td>5</td>\n",
       "      <td>15625092</td>\n",
       "      <td>850</td>\n",
       "      <td>Spain</td>\n",
       "      <td>Female</td>\n",
       "      <td>43</td>\n",
       "      <td>2</td>\n",
       "      <td>125510.82</td>\n",
       "      <td>1</td>\n",
       "      <td>1</td>\n",
       "      <td>1</td>\n",
       "      <td>79084.10</td>\n",
       "      <td>0</td>\n",
       "      <td>0</td>\n",
       "      <td>5</td>\n",
       "      <td>GOLD</td>\n",
       "      <td>425</td>\n",
       "      <td>40-49</td>\n",
       "    </tr>\n",
       "  </tbody>\n",
       "</table>\n",
       "</div>"
      ],
      "text/plain": [
       "   Unnamed: 0  RowNumber  CustomerId  CreditScore Geography  Gender  Age  \\\n",
       "0           0          1    15598695          619    France  Female   42   \n",
       "1           1          2    15649354          608     Spain  Female   41   \n",
       "2           2          3    15737556          502    France  Female   42   \n",
       "3           3          4    15671610          699    France  Female   39   \n",
       "4           4          5    15625092          850     Spain  Female   43   \n",
       "\n",
       "   Tenure    Balance  NumOfProducts  HasCrCard  IsActiveMember  \\\n",
       "0       2       0.00              1          1               1   \n",
       "1       1   83807.86              1          0               1   \n",
       "2       8  159660.80              3          1               0   \n",
       "3       1       0.00              2          0               0   \n",
       "4       2  125510.82              1          1               1   \n",
       "\n",
       "   EstimatedSalary  Exited  Complain  SatisfactionScore CardType  PointEarned  \\\n",
       "0        101348.88       1         1                  2  DIAMOND          464   \n",
       "1        112542.58       0         1                  3  DIAMOND          456   \n",
       "2        113931.57       1         1                  3  DIAMOND          377   \n",
       "3         93826.63       0         0                  5     GOLD          350   \n",
       "4         79084.10       0         0                  5     GOLD          425   \n",
       "\n",
       "  AgeGroup  \n",
       "0    40-49  \n",
       "1    40-49  \n",
       "2    40-49  \n",
       "3    30-39  \n",
       "4    40-49  "
      ]
     },
     "execution_count": 15,
     "metadata": {},
     "output_type": "execute_result"
    }
   ],
   "source": [
    "# Display the first few rows of the DataFrame to verify the new column\n",
    "df.head()"
   ]
  },
  {
   "cell_type": "markdown",
   "id": "1aaaca78",
   "metadata": {},
   "source": [
    "_______________"
   ]
  },
  {
   "cell_type": "markdown",
   "id": "9698ec41",
   "metadata": {},
   "source": [
    "## Outlier Handling"
   ]
  },
  {
   "cell_type": "markdown",
   "id": "560597e6",
   "metadata": {},
   "source": [
    "The dataset will be investigated for outlier detection and negative values."
   ]
  },
  {
   "cell_type": "code",
   "execution_count": 16,
   "id": "6a45097d",
   "metadata": {},
   "outputs": [
    {
     "name": "stdout",
     "output_type": "stream",
     "text": [
      "No negative values found in the dataset.\n"
     ]
    }
   ],
   "source": [
    "# Check for negative values in numeric columns of dataset (CoPilot Assistance)\n",
    "negative_values = df [df.select_dtypes(include=[np.number]) < 0].any(axis=1)\n",
    "negative_values = df[negative_values    \n",
    "]\n",
    "if negative_values.empty:\n",
    "    print(\"No negative values found in the dataset.\")\n",
    "else:\n",
    "    print(\"Negative values found in the following rows:\")\n",
    "    print(negative_values)"
   ]
  },
  {
   "cell_type": "markdown",
   "id": "4b41caaa",
   "metadata": {},
   "source": [
    "Check for outliers in dataset among the numeric data types."
   ]
  },
  {
   "cell_type": "code",
   "execution_count": 17,
   "id": "75d7cea2",
   "metadata": {},
   "outputs": [
    {
     "name": "stdout",
     "output_type": "stream",
     "text": [
      "Index(['Unnamed: 0', 'RowNumber', 'CustomerId', 'CreditScore', 'Age', 'Tenure',\n",
      "       'Balance', 'NumOfProducts', 'HasCrCard', 'IsActiveMember',\n",
      "       'EstimatedSalary', 'Exited', 'Complain', 'SatisfactionScore',\n",
      "       'PointEarned'],\n",
      "      dtype='object')\n"
     ]
    }
   ],
   "source": [
    "# Identify numeric columns in the DataFrame\n",
    "numeric_columns = df.select_dtypes(include=[np.number]).columns\n",
    "print(numeric_columns)"
   ]
  },
  {
   "cell_type": "markdown",
   "id": "1f2cffaf",
   "metadata": {},
   "source": [
    "Drop the unnamed column in the DataFrame."
   ]
  },
  {
   "cell_type": "code",
   "execution_count": 18,
   "id": "7c02e699",
   "metadata": {},
   "outputs": [],
   "source": [
    "df.drop(columns=['Unnamed: 0'], inplace=True, errors='ignore')"
   ]
  },
  {
   "cell_type": "markdown",
   "id": "72e4f8ca",
   "metadata": {},
   "source": [
    "Plot all outliers in a Box Plot, only for columns relevant to the hypotheses.\n",
    "Boxplot images to be output as an image file to the /data/outputs/images folder."
   ]
  },
  {
   "cell_type": "code",
   "execution_count": 72,
   "id": "4e86cbcf",
   "metadata": {},
   "outputs": [
    {
     "data": {
      "image/png": "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",
      "text/plain": [
       "<Figure size 800x400 with 1 Axes>"
      ]
     },
     "metadata": {},
     "output_type": "display_data"
    }
   ],
   "source": [
    "plt.figure(figsize=(8, 4))\n",
    "df['CreditScore'].plot(kind='box')\n",
    "plt.title('Credit Score Outliers')\n",
    "plt.ylabel('Credit Score')\n",
    "\n",
    "#save to an external png image file\n",
    "plt.savefig('../data/outputs/images/boxplot_credit_score_outliers.png', dpi=300)\n",
    "\n",
    "#show the plot\n",
    "plt.show()"
   ]
  },
  {
   "cell_type": "markdown",
   "id": "c3f5f7a6",
   "metadata": {},
   "source": [
    "There are a large amount of outliers within the credit score column. Which is to be expected as the standard deviation is high for this variable. The outliers indicate the dataset represents a varied range of customers in terms of financial literacy, these will not be removed from the dataset as it aids in providing a well rounded picture of customers. "
   ]
  },
  {
   "cell_type": "code",
   "execution_count": 20,
   "id": "09c836c1",
   "metadata": {},
   "outputs": [
    {
     "data": {
      "image/png": "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",
      "text/plain": [
       "<Figure size 800x400 with 1 Axes>"
      ]
     },
     "metadata": {},
     "output_type": "display_data"
    }
   ],
   "source": [
    "plt.figure(figsize=(8, 4))\n",
    "df['NumOfProducts'].plot(kind='box')\n",
    "plt.title('Number of Products Outliers')\n",
    "plt.ylabel('Number of Products')\n",
    "\n",
    "#save to an external png image file\n",
    "plt.savefig('../data/outputs/images/boxplot_number_of_product_outliers.png', dpi=300)\n",
    "\n",
    "#show the plot\n",
    "plt.show()"
   ]
  },
  {
   "cell_type": "markdown",
   "id": "4f87cea4",
   "metadata": {},
   "source": [
    "This box plot shows the majority of customers hold 1-3 products with the bank, as the value 4 is marked as an outlier suggesting fewer customers have 4 products."
   ]
  },
  {
   "cell_type": "code",
   "execution_count": 21,
   "id": "88136e44",
   "metadata": {},
   "outputs": [
    {
     "data": {
      "image/png": "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",
      "text/plain": [
       "<Figure size 800x400 with 1 Axes>"
      ]
     },
     "metadata": {},
     "output_type": "display_data"
    }
   ],
   "source": [
    "plt.figure(figsize=(8, 4))\n",
    "df['PointEarned'].plot(kind='box')\n",
    "plt.title('Points Earned Outliers')\n",
    "plt.ylabel('Points Earned')\n",
    "\n",
    "#save to an external png image file\n",
    "plt.savefig('../data/outputs/images/boxplot_points_earned_outliers.png', dpi=300)\n",
    "\n",
    "#show the plot\n",
    "plt.show()"
   ]
<<<<<<< HEAD
  },
  {
   "cell_type": "markdown",
   "id": "14fd41a1",
   "metadata": {},
   "source": [
    "The dataset represents a diverse range of customers in terms of points earned, the values are well distributed with no extreme outliers. The majority of customers have between 400 and 800 points."
   ]
=======
>>>>>>> ac88c109e4cfa8fcbd8c3b3998c2cbf397a7538f
  }
 ],
 "metadata": {
  "kernelspec": {
   "display_name": ".venv",
   "language": "python",
   "name": "python3"
  },
  "language_info": {
   "codemirror_mode": {
    "name": "ipython",
    "version": 3
   },
   "file_extension": ".py",
   "mimetype": "text/x-python",
   "name": "python",
   "nbconvert_exporter": "python",
   "pygments_lexer": "ipython3",
   "version": "3.12.8"
  }
 },
 "nbformat": 4,
 "nbformat_minor": 5
}
