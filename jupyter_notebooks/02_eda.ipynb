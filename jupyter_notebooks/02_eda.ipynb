{
 "cells": [
  {
   "cell_type": "markdown",
   "id": "855f8008",
   "metadata": {},
   "source": [
    "# Exploratory Data Analysis - Bank Customer Attrition\n",
    "\n",
    "## Objectives\n",
    "\n",
    "Explore the Bank Customer Attrition dataset to investiagte and carry out the following:\n",
    "\n",
    "* Identify Outliers\n",
    "* Explore feature engineering\n",
    "* Descriptive Analysis"
   ]
  },
  {
   "cell_type": "markdown",
   "id": "e631605c",
   "metadata": {},
   "source": [
    "## Inputs\n",
    "\n",
    "* data/inputs/cleaned_bank_data.csv"
   ]
  },
  {
   "cell_type": "markdown",
   "id": "f7faab55",
   "metadata": {},
   "source": [
    "## Outputs\n",
    "\n",
    "* INSERT CSV NAME HERE"
   ]
  },
  {
   "cell_type": "markdown",
   "id": "46fcc813",
   "metadata": {},
   "source": [
    "___________________"
   ]
  },
  {
   "cell_type": "markdown",
   "id": "fbd3d8aa",
   "metadata": {},
   "source": [
    "## Explore Feature Engineering\n",
    "\n",
    "Feature engineering will be explored in the notebook to identify the best strategies, to be implemented into the ETL pipeline."
   ]
  },
  {
   "cell_type": "markdown",
   "id": "30e28973",
   "metadata": {},
   "source": [
    "Create a new column to group continuous age values for improved interpretability, enhanced analysis and simplified modelling."
   ]
  }
 ],
 "metadata": {
  "kernelspec": {
   "display_name": ".venv",
   "language": "python",
   "name": "python3"
  },
  "language_info": {
   "name": "python",
   "version": "3.12.8"
  }
 },
 "nbformat": 4,
 "nbformat_minor": 5
}
