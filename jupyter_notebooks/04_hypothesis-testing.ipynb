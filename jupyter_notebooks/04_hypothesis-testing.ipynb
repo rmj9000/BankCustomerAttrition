{
 "cells": [
  {
   "cell_type": "markdown",
   "id": "6b32f496",
   "metadata": {},
   "source": [
    "# Hypothesis Testing"
   ]
  },
  {
   "cell_type": "markdown",
   "id": "58a9e678",
   "metadata": {},
   "source": [
    "## Objectives\n",
    "\n",
    "* Carry out hypothesis testing using statistical analysis techniques."
   ]
  },
  {
   "cell_type": "markdown",
   "id": "b7566ff6",
   "metadata": {},
   "source": [
    "## Navigation:\n",
    "* [Readme](https://github.com/rmj9000/BankCustomerAttrition/blob/main/README.md)\n",
    "* [ 01: ETL Pipeline](https://github.com/rmj9000/BankCustomerAttrition/blob/main/jupyter_notebooks/01_etl.ipynb)\n",
    "* [02: Exploratory Data Analysis](https://github.com/rmj9000/BankCustomerAttrition/blob/main/jupyter_notebooks/02_eda.ipynb)\n",
    "* [03: Heat Map](https://github.com/rmj9000/BankCustomerAttrition/blob/main/jupyter_notebooks/03_heatmap.ipynb)\n",
    "* [05: Data Transformation for Tableau](https://github.com/rmj9000/BankCustomerAttrition/blob/main/jupyter_notebooks/05_tableau-data.ipynb)\n",
    "* [06: Tableau Dashboard](https://public.tableau.com/shared/GMW47YQH9?:display_count=n&:origin=viz_share_link)\n",
    "* [07: Raw Data](https://github.com/rmj9000/BankCustomerAttrition/blob/main/data/inputs/raw/bank_customer_attrition_insights_data.csv)\n",
    "* [08: Cleaned Data](https://github.com/rmj9000/BankCustomerAttrition/blob/main/data/inputs/cleaned_bank_data.csv)"
   ]
  },
  {
   "cell_type": "markdown",
   "id": "fd92719b",
   "metadata": {},
   "source": [
    "## Inputs\n",
    "\n",
    "* data/inputs/cleaned_bank_data.csv"
   ]
  },
  {
   "cell_type": "markdown",
   "id": "a0402b19",
   "metadata": {},
   "source": [
    "## Outputs\n",
    "\n",
    "* data/inputs/cleaned_bank_data.csv (No changes to dataset)"
   ]
  },
  {
   "cell_type": "markdown",
   "id": "b46200fa",
   "metadata": {},
   "source": [
    "_________________"
   ]
  },
  {
   "cell_type": "markdown",
   "id": "8f4a35f8",
   "metadata": {},
   "source": [
    "The cleaned bank customer attrition dataset will be loaded into this notebook for hypothesis testing."
   ]
  },
  {
   "cell_type": "code",
   "execution_count": 1,
   "id": "f2bb3925",
   "metadata": {},
   "outputs": [],
   "source": [
    "# Import necessary libraries\n",
    "import pandas as pd\n",
    "import numpy as np \n",
    "import matplotlib.pyplot as plt\n",
    "import seaborn as sns"
   ]
  },
  {
   "cell_type": "code",
   "execution_count": 3,
   "id": "049b03a6",
   "metadata": {},
   "outputs": [
    {
     "data": {
      "text/html": [
       "<div>\n",
       "<style scoped>\n",
       "    .dataframe tbody tr th:only-of-type {\n",
       "        vertical-align: middle;\n",
       "    }\n",
       "\n",
       "    .dataframe tbody tr th {\n",
       "        vertical-align: top;\n",
       "    }\n",
       "\n",
       "    .dataframe thead th {\n",
       "        text-align: right;\n",
       "    }\n",
       "</style>\n",
       "<table border=\"1\" class=\"dataframe\">\n",
       "  <thead>\n",
       "    <tr style=\"text-align: right;\">\n",
       "      <th></th>\n",
       "      <th>Unnamed: 0</th>\n",
       "      <th>RowNumber</th>\n",
       "      <th>CustomerId</th>\n",
       "      <th>CreditScore</th>\n",
       "      <th>Geography</th>\n",
       "      <th>Gender</th>\n",
       "      <th>Age</th>\n",
       "      <th>Tenure</th>\n",
       "      <th>Balance</th>\n",
       "      <th>NumOfProducts</th>\n",
       "      <th>HasCrCard</th>\n",
       "      <th>IsActiveMember</th>\n",
       "      <th>EstimatedSalary</th>\n",
       "      <th>Exited</th>\n",
       "      <th>Complain</th>\n",
       "      <th>SatisfactionScore</th>\n",
       "      <th>CardType</th>\n",
       "      <th>PointEarned</th>\n",
       "      <th>AgeGroup</th>\n",
       "    </tr>\n",
       "  </thead>\n",
       "  <tbody>\n",
       "    <tr>\n",
       "      <th>0</th>\n",
       "      <td>0</td>\n",
       "      <td>1</td>\n",
       "      <td>15598695</td>\n",
       "      <td>619</td>\n",
       "      <td>France</td>\n",
       "      <td>Female</td>\n",
       "      <td>42</td>\n",
       "      <td>2</td>\n",
       "      <td>0.00</td>\n",
       "      <td>1</td>\n",
       "      <td>1</td>\n",
       "      <td>1</td>\n",
       "      <td>101348.88</td>\n",
       "      <td>1</td>\n",
       "      <td>1</td>\n",
       "      <td>2</td>\n",
       "      <td>DIAMOND</td>\n",
       "      <td>464</td>\n",
       "      <td>40-49</td>\n",
       "    </tr>\n",
       "    <tr>\n",
       "      <th>1</th>\n",
       "      <td>1</td>\n",
       "      <td>2</td>\n",
       "      <td>15649354</td>\n",
       "      <td>608</td>\n",
       "      <td>Spain</td>\n",
       "      <td>Female</td>\n",
       "      <td>41</td>\n",
       "      <td>1</td>\n",
       "      <td>83807.86</td>\n",
       "      <td>1</td>\n",
       "      <td>0</td>\n",
       "      <td>1</td>\n",
       "      <td>112542.58</td>\n",
       "      <td>0</td>\n",
       "      <td>1</td>\n",
       "      <td>3</td>\n",
       "      <td>DIAMOND</td>\n",
       "      <td>456</td>\n",
       "      <td>40-49</td>\n",
       "    </tr>\n",
       "    <tr>\n",
       "      <th>2</th>\n",
       "      <td>2</td>\n",
       "      <td>3</td>\n",
       "      <td>15737556</td>\n",
       "      <td>502</td>\n",
       "      <td>France</td>\n",
       "      <td>Female</td>\n",
       "      <td>42</td>\n",
       "      <td>8</td>\n",
       "      <td>159660.80</td>\n",
       "      <td>3</td>\n",
       "      <td>1</td>\n",
       "      <td>0</td>\n",
       "      <td>113931.57</td>\n",
       "      <td>1</td>\n",
       "      <td>1</td>\n",
       "      <td>3</td>\n",
       "      <td>DIAMOND</td>\n",
       "      <td>377</td>\n",
       "      <td>40-49</td>\n",
       "    </tr>\n",
       "    <tr>\n",
       "      <th>3</th>\n",
       "      <td>3</td>\n",
       "      <td>4</td>\n",
       "      <td>15671610</td>\n",
       "      <td>699</td>\n",
       "      <td>France</td>\n",
       "      <td>Female</td>\n",
       "      <td>39</td>\n",
       "      <td>1</td>\n",
       "      <td>0.00</td>\n",
       "      <td>2</td>\n",
       "      <td>0</td>\n",
       "      <td>0</td>\n",
       "      <td>93826.63</td>\n",
       "      <td>0</td>\n",
       "      <td>0</td>\n",
       "      <td>5</td>\n",
       "      <td>GOLD</td>\n",
       "      <td>350</td>\n",
       "      <td>30-39</td>\n",
       "    </tr>\n",
       "    <tr>\n",
       "      <th>4</th>\n",
       "      <td>4</td>\n",
       "      <td>5</td>\n",
       "      <td>15625092</td>\n",
       "      <td>850</td>\n",
       "      <td>Spain</td>\n",
       "      <td>Female</td>\n",
       "      <td>43</td>\n",
       "      <td>2</td>\n",
       "      <td>125510.82</td>\n",
       "      <td>1</td>\n",
       "      <td>1</td>\n",
       "      <td>1</td>\n",
       "      <td>79084.10</td>\n",
       "      <td>0</td>\n",
       "      <td>0</td>\n",
       "      <td>5</td>\n",
       "      <td>GOLD</td>\n",
       "      <td>425</td>\n",
       "      <td>40-49</td>\n",
       "    </tr>\n",
       "  </tbody>\n",
       "</table>\n",
       "</div>"
      ],
      "text/plain": [
       "   Unnamed: 0  RowNumber  CustomerId  CreditScore Geography  Gender  Age  \\\n",
       "0           0          1    15598695          619    France  Female   42   \n",
       "1           1          2    15649354          608     Spain  Female   41   \n",
       "2           2          3    15737556          502    France  Female   42   \n",
       "3           3          4    15671610          699    France  Female   39   \n",
       "4           4          5    15625092          850     Spain  Female   43   \n",
       "\n",
       "   Tenure    Balance  NumOfProducts  HasCrCard  IsActiveMember  \\\n",
       "0       2       0.00              1          1               1   \n",
       "1       1   83807.86              1          0               1   \n",
       "2       8  159660.80              3          1               0   \n",
       "3       1       0.00              2          0               0   \n",
       "4       2  125510.82              1          1               1   \n",
       "\n",
       "   EstimatedSalary  Exited  Complain  SatisfactionScore CardType  PointEarned  \\\n",
       "0        101348.88       1         1                  2  DIAMOND          464   \n",
       "1        112542.58       0         1                  3  DIAMOND          456   \n",
       "2        113931.57       1         1                  3  DIAMOND          377   \n",
       "3         93826.63       0         0                  5     GOLD          350   \n",
       "4         79084.10       0         0                  5     GOLD          425   \n",
       "\n",
       "  AgeGroup  \n",
       "0    40-49  \n",
       "1    40-49  \n",
       "2    40-49  \n",
       "3    30-39  \n",
       "4    40-49  "
      ]
     },
     "execution_count": 3,
     "metadata": {},
     "output_type": "execute_result"
    }
   ],
   "source": [
    "# Load the cleaned dataset\n",
    "df = pd.read_csv('../data/inputs/cleaned_bank_data.csv')\n",
    "df.head() # Display the first few rows of the dataset"
   ]
  },
  {
   "cell_type": "code",
   "execution_count": 5,
   "id": "98c47f41",
   "metadata": {},
   "outputs": [],
   "source": [
    "# Drop the 'Unnamed: 0' column if it exists\n",
    "df.drop(columns=['Unnamed: 0'], inplace=True, errors='ignore')"
   ]
  },
  {
   "cell_type": "markdown",
   "id": "c564b060",
   "metadata": {},
   "source": [
    "## **Hypothesis 1:** Using a T-Test\n",
    "\n",
    "Customers who earn fewer reward points are more likely to attrite.\n",
    "\n",
    "Reward points often reflect transaction activity and customer engagement. If customers earning fewer points are more likely to leave, it suggests that low engagement is a key driver of attrition. This insight could help the bank identify disengaged customers early and design targeted retention strategies.\n",
    "\n",
    "\n"
   ]
  },
  {
   "cell_type": "code",
   "execution_count": 7,
   "id": "4995ccea",
   "metadata": {},
   "outputs": [
    {
     "name": "stdout",
     "output_type": "stream",
     "text": [
      "T-Statistic: -0.46372006220720496\n",
      "P-Value: 0.6428801754239084\n",
      "Fail to reject the null hypothesis: No significant difference in reward points between attrited and retained customers.\n"
     ]
    }
   ],
   "source": [
    "# CoPilot Assistance\n",
    "# Import necessary libraries for hypothesis testing\n",
    "from scipy.stats import ttest_ind\n",
    "\n",
    "# Split the dataset into two groups: customers who exited and those who did not\n",
    "attrited_customers = df[df['Exited'] == 1]['PointEarned']  # Customers who left the bank\n",
    "retained_customers = df[df['Exited'] == 0]['PointEarned']  # Customers who stayed\n",
    "\n",
    "# Perform an independent T-Test to compare the mean reward points between the two groups\n",
    "t_stat, p_value = ttest_ind(attrited_customers, retained_customers, equal_var=False)\n",
    "\n",
    "# Display the results\n",
    "print(\"T-Statistic:\", t_stat)\n",
    "print(\"P-Value:\", p_value)\n",
    "\n",
    "# Interpret the results\n",
    "alpha = 0.05  # Significance level\n",
    "if p_value < alpha:\n",
    "    print(\"Reject the null hypothesis: Customers who earn fewer reward points are more likely to attrite.\")\n",
    "else:\n",
    "    print(\"Fail to reject the null hypothesis: No significant difference in reward points between attrited and retained customers.\")"
   ]
  },
  {
   "cell_type": "markdown",
   "id": "c8086ec9",
   "metadata": {},
   "source": [
    "* The T-Test statistic is -0.4637 which indicates there isn't a substantial difference between the means of each variable. \n",
    "\n",
    "* The P-Value is 0.642 which is greater than the significance level of 0.05. Indicating there is no statistically significant difference and any variation in values may be down to random chance.\n",
    "\n",
    "* So we fail to reject the null hypothesis. "
   ]
  },
  {
   "cell_type": "markdown",
   "id": "a1567d36",
   "metadata": {},
   "source": [
    "## **Hypothesis 2:** Using a Pearson Correlation \n",
    "\n",
    "Credit card customers with lower credit scores are more likely to attrite.\n",
    "\n",
    "Lower credit scores may indicate financial instability or limited access to banking services. These customers might leave voluntarily due to dissatisfaction or be targeted for closure by the bank. Understanding this relationship can guide credit policy and customer support strategies."
   ]
  },
  {
   "cell_type": "code",
   "execution_count": 8,
   "id": "cb40ba8f",
   "metadata": {},
   "outputs": [
    {
     "name": "stdout",
     "output_type": "stream",
     "text": [
      "Correlation Coefficient: -0.026771448055269292\n",
      "P-Value: 0.007422037242741072\n",
      "Reject the null hypothesis: There is a significant correlation between credit scores and attrition.\n"
     ]
    }
   ],
   "source": [
    "# CoPilot Assistance\n",
    "# Import necessary libraries\n",
    "from scipy.stats import pearsonr\n",
    "\n",
    "# Perform a correlation analysis between CreditScore and Exited\n",
    "correlation, p_value = pearsonr(df['CreditScore'], df['Exited'])\n",
    "\n",
    "# Display the results\n",
    "print(\"Correlation Coefficient:\", correlation)\n",
    "print(\"P-Value:\", p_value)\n",
    "\n",
    "# Interpret the results\n",
    "alpha = 0.05  # Significance level\n",
    "if p_value < alpha:\n",
    "    print(\"Reject the null hypothesis: There is a significant correlation between credit scores and attrition.\")\n",
    "else:\n",
    "    print(\"Fail to reject the null hypothesis: No significant correlation between credit scores and attrition.\")"
   ]
  },
  {
   "cell_type": "markdown",
   "id": "7e34f413",
   "metadata": {},
   "source": [
    "* The correlation coefficent is -0.0268 which indicates there is a weak negative correlation between Credit Score and Attrition. \n",
    "\n",
    "* The P-Value is 0.0074 which is less than the significance level, suggesting the correlation is statistically significant. \n",
    "\n",
    "* Reject the null hypothesis as there is a statistically significant, although weak negative correlation between the two variables. Suggesting a relationship exists but credit score alone is unlikely to be a strong predictor of attrition. "
   ]
  },
  {
   "cell_type": "markdown",
   "id": "27a1ef68",
   "metadata": {},
   "source": [
    "Use a logistic regression to model the relationship between Credit Score and Attrition."
   ]
  },
  {
   "cell_type": "code",
   "execution_count": 14,
   "id": "af142476",
   "metadata": {},
   "outputs": [
    {
     "name": "stdout",
     "output_type": "stream",
     "text": [
      "Accuracy: 0.8053333333333333\n",
      "Confusion Matrix:\n",
      " [[2416    0]\n",
      " [ 584    0]]\n",
      "Classification Report:\n",
      "               precision    recall  f1-score   support\n",
      "\n",
      "           0       0.81      1.00      0.89      2416\n",
      "           1       0.00      0.00      0.00       584\n",
      "\n",
      "    accuracy                           0.81      3000\n",
      "   macro avg       0.40      0.50      0.45      3000\n",
      "weighted avg       0.65      0.81      0.72      3000\n",
      "\n"
     ]
    },
    {
     "name": "stderr",
     "output_type": "stream",
     "text": [
      "/Users/kabirasharpe/dev/final_hackathon/BankCustomerAttrition/.venv/lib/python3.12/site-packages/sklearn/metrics/_classification.py:1469: UndefinedMetricWarning: Precision and F-score are ill-defined and being set to 0.0 in labels with no predicted samples. Use `zero_division` parameter to control this behavior.\n",
      "  _warn_prf(average, modifier, msg_start, len(result))\n",
      "/Users/kabirasharpe/dev/final_hackathon/BankCustomerAttrition/.venv/lib/python3.12/site-packages/sklearn/metrics/_classification.py:1469: UndefinedMetricWarning: Precision and F-score are ill-defined and being set to 0.0 in labels with no predicted samples. Use `zero_division` parameter to control this behavior.\n",
      "  _warn_prf(average, modifier, msg_start, len(result))\n",
      "/Users/kabirasharpe/dev/final_hackathon/BankCustomerAttrition/.venv/lib/python3.12/site-packages/sklearn/metrics/_classification.py:1469: UndefinedMetricWarning: Precision and F-score are ill-defined and being set to 0.0 in labels with no predicted samples. Use `zero_division` parameter to control this behavior.\n",
      "  _warn_prf(average, modifier, msg_start, len(result))\n"
     ]
    }
   ],
   "source": [
    "# Import necessary libraries\n",
    "from sklearn.model_selection import train_test_split\n",
    "from sklearn.linear_model import LogisticRegression\n",
    "from sklearn.metrics import accuracy_score, confusion_matrix, classification_report\n",
    "\n",
    "# Prepare the data\n",
    "X = df[['CreditScore']]  # Predictor variable\n",
    "y = df['Exited']         # Target variable\n",
    "\n",
    "# Split the data into training and testing sets\n",
    "X_train, X_test, y_train, y_test = train_test_split(X, y, test_size=0.3, random_state=42)\n",
    "\n",
    "# Create and train the logistic regression model\n",
    "model = LogisticRegression()\n",
    "model.fit(X_train, y_train)\n",
    "\n",
    "# Make predictions\n",
    "y_pred = model.predict(X_test)\n",
    "\n",
    "# Evaluate the model\n",
    "accuracy = accuracy_score(y_test, y_pred)\n",
    "conf_matrix = confusion_matrix(y_test, y_pred)\n",
    "class_report = classification_report(y_test, y_pred)\n",
    "\n",
    "# Display the results\n",
    "print(\"Accuracy:\", accuracy)\n",
    "print(\"Confusion Matrix:\\n\", conf_matrix)\n",
    "print(\"Classification Report:\\n\", class_report)"
   ]
  },
  {
   "cell_type": "markdown",
   "id": "9de6c24d",
   "metadata": {},
   "source": [
    "Plot the results of the logistic regression using a scatter plot that shows a trend line."
   ]
  },
  {
   "cell_type": "code",
   "execution_count": 15,
   "id": "f044f511",
   "metadata": {},
   "outputs": [
    {
     "data": {
      "image/png": "[encoded data removed]",
      "text/plain": [
       "<Figure size 1000x600 with 1 Axes>"
      ]
     },
     "metadata": {},
     "output_type": "display_data"
    }
   ],
   "source": [
    "# Import necessary libraries\n",
    "import seaborn as sns\n",
    "import matplotlib.pyplot as plt\n",
    "\n",
    "# Create a scatter plot with a trend line\n",
    "plt.figure(figsize=(10, 6))\n",
    "sns.regplot(x='CreditScore', y='Exited', data=df, logistic=True, scatter_kws={'alpha':0.5}, line_kws={'color':'red'})\n",
    "\n",
    "# Add labels and title\n",
    "plt.xlabel('Credit Score')\n",
    "plt.ylabel('Exited (0 = Retained, 1 = Attrited)')\n",
    "plt.title('Scatter Plot with Trend Line: Credit Score vs Exited')\n",
    "\n",
    "# Show the plot\n",
    "plt.show()"
   ]
  },
  {
   "cell_type": "markdown",
   "id": "3c31ca53",
   "metadata": {},
   "source": [
    "**Trend Line:** The red trend line shows a weak negative relationship between Credit Score and Attrition. As Credit Score increases, the likelihood of attrition (Exited = 1) slightly decreases.\n",
    "\n",
    "**Scatter Points:** The points are clustered at Exited = 0 (retained customers) and Exited = 1 (attrited customers), indicating the binary nature of the target variable. There is significant overlap between the two groups across the range of Credit Score, suggesting that Credit Score alone may not be a strong predictor of attrition.\n",
    "\n",
    "**Implication:** The weak negative correlation aligns with the earlier Pearson correlation results (Correlation Coefficient = -0.0268).\n",
    "\n",
    "While there is a statistically significant relationship, the effect size is small, meaning other factors (e.g., satisfaction score, activity level) may better explain attrition."
   ]
  },
  {
   "cell_type": "markdown",
   "id": "80dfe033",
   "metadata": {},
   "source": [
    "## **Hypothesis 3:** Using a Mann-Whitney U Test\n",
    "\n",
    "Customers with shorter tenure at the bank are more likely to attrite.\n",
    "\n",
    "If newer customers are more prone to leaving, it may signal issues with onboarding, early experience, or unmet expectations. This insight is crucial for improving customer retention strategies during the first few months of engagement"
   ]
  },
  {
   "cell_type": "code",
   "execution_count": 9,
   "id": "939c7ba6",
   "metadata": {},
   "outputs": [
    {
     "name": "stdout",
     "output_type": "stream",
     "text": [
      "U-Statistic: 7955556.0\n",
      "P-Value: 0.1729583374544681\n",
      "Fail to reject the null hypothesis: No significant difference in tenure between attrited and retained customers.\n"
     ]
    }
   ],
   "source": [
    "# CoPilot Assistance\n",
    "# Import necessary libraries for hypothesis testing\n",
    "from scipy.stats import mannwhitneyu\n",
    "\n",
    "# Split the dataset into two groups: customers who exited and those who did not\n",
    "attrited_customers = df[df['Exited'] == 1]['Tenure']  # Customers who left the bank\n",
    "retained_customers = df[df['Exited'] == 0]['Tenure']  # Customers who stayed\n",
    "\n",
    "# Perform the Mann-Whitney U Test to compare the tenure between the two groups\n",
    "u_stat, p_value = mannwhitneyu(attrited_customers, retained_customers, alternative='two-sided')\n",
    "\n",
    "# Display the results\n",
    "print(\"U-Statistic:\", u_stat)\n",
    "print(\"P-Value:\", p_value)\n",
    "\n",
    "# Interpret the results\n",
    "alpha = 0.05  # Significance level\n",
    "if p_value < alpha:\n",
    "    print(\"Reject the null hypothesis: Customers with shorter tenure at the bank are more likely to attrite.\")\n",
    "else:\n",
    "    print(\"Fail to reject the null hypothesis: No significant difference in tenure between attrited and retained customers.\")"
   ]
  },
  {
   "cell_type": "markdown",
   "id": "d29ae910",
   "metadata": {},
   "source": [
    "* The U-Statistic is 7955556.0, which suggests the two groups overlap significantly meaning there is little difference between them. \n",
    "\n",
    "* The P-Value is 0.1729 which greater than the significance level. Indidcating the observed difference between Tenure and Attrition is not statistically significant. \n",
    "\n",
    "* Fail to reject the null hypothesis as no statistical significance. "
   ]
  },
  {
   "cell_type": "markdown",
   "id": "93726248",
   "metadata": {},
   "source": [
    "Plot a box plot to visualise the distribution of retained customers vs. attrited customers based on their tenure."
   ]
  },
  {
   "cell_type": "code",
   "execution_count": 13,
   "id": "3692ea82",
   "metadata": {},
   "outputs": [
    {
     "name": "stderr",
     "output_type": "stream",
     "text": [
      "/var/folders/64/xbfmq1f95ys8zppkq460lv_80000gn/T/ipykernel_8545/3128407085.py:8: FutureWarning: \n",
      "\n",
      "Passing `palette` without assigning `hue` is deprecated and will be removed in v0.14.0. Assign the `x` variable to `hue` and set `legend=False` for the same effect.\n",
      "\n",
      "  sns.boxplot(x='Exited', y='Tenure', data=df, palette=['blue', 'red'])\n"
     ]
    },
    {
     "data": {
      "image/png": "[encoded data removed]",
      "text/plain": [
       "<Figure size 1000x600 with 1 Axes>"
      ]
     },
     "metadata": {},
     "output_type": "display_data"
    }
   ],
   "source": [
    "# CoPilot code creation\n",
    "# Import necessary libraries\n",
    "import seaborn as sns\n",
    "import matplotlib.pyplot as plt\n",
    "\n",
    "# Create a box plot to visualize tenure distribution for attrited and retained customers\n",
    "plt.figure(figsize=(10, 6))\n",
    "sns.boxplot(x='Exited', y='Tenure', data=df, palette=['blue', 'red'])\n",
    "\n",
    "# Add labels and title\n",
    "plt.xlabel('Exited (0 = Retained, 1 = Attrited)')\n",
    "plt.ylabel('Tenure')\n",
    "plt.title('Box Plot of Tenure for Attrited vs Retained Customers')\n",
    "\n",
    "# Show the plot\n",
    "plt.show()"
   ]
  },
  {
   "cell_type": "markdown",
   "id": "f0551e1b",
   "metadata": {},
   "source": [
    "**Median Tenure:** The median tenure for both attrited (red) and retained (blue) customers appears similar, suggesting no significant difference in central tendency.\n",
    "\n",
    "**Spread:** Both groups show a similar range of tenure values, indicating comparable variability.\n",
    "\n",
    "**Outliers:** There are no extreme outliers visible in either group.\n",
    "\n",
    "**Implication:** The box plot supports the statistical test results, showing no clear distinction in tenure between attrited and retained customers. Tenure may not be a strong predictor of attrition."
   ]
  }
 ],
 "metadata": {
  "kernelspec": {
   "display_name": ".venv",
   "language": "python",
   "name": "python3"
  },
  "language_info": {
   "codemirror_mode": {
    "name": "ipython",
    "version": 3
   },
   "file_extension": ".py",
   "mimetype": "text/x-python",
   "name": "python",
   "nbconvert_exporter": "python",
   "pygments_lexer": "ipython3",
   "version": "3.12.8"
  }
 },
 "nbformat": 4,
 "nbformat_minor": 5
}
