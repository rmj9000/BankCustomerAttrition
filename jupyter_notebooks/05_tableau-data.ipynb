{
 "cells": [
  {
   "cell_type": "markdown",
   "id": "68d389f9",
   "metadata": {},
   "source": [
    "# Tableau Data Preparation"
   ]
  },
  {
   "cell_type": "markdown",
   "id": "7f5d3836",
   "metadata": {},
   "source": [
    "## Objectives\n",
    "\n",
    "* Prepare and format data for Tableau visualization\n",
    "* Export cleaned dataset in optimal format for Tableau analysis\n",
    "* Create additional data transformations if needed for dashboard creation\n",
    "\n",
    "## Inputs\n",
    "\n",
    "* data/inputs/cleaned_bank_data.csv\n",
    "\n",
    "## Outputs\n",
    "\n",
    "* Tableau-ready dataset (CSV format)\n",
    "* Data documentation for dashboard creation\n",
    "\n",
    "## Additional Comments\n",
    "\n",
    "* This notebook focuses on preparing data specifically for Tableau visualizations and dashboard creation"
   ]
  },
  {
   "cell_type": "markdown",
   "id": "10be6c7a",
   "metadata": {},
   "source": [
    "---"
   ]
  },
  {
   "cell_type": "markdown",
   "id": "0c2a0a42",
   "metadata": {},
   "source": [
    "# Change working directory"
   ]
  },
  {
   "cell_type": "markdown",
   "id": "4ef1ed8c",
   "metadata": {},
   "source": [
    "* We are assuming you will store the notebooks in a subfolder, therefore when running the notebook in the editor, you will need to change the working directory"
   ]
  },
  {
   "cell_type": "markdown",
   "id": "9fc31508",
   "metadata": {},
   "source": [
    "We need to change the working directory from its current folder to its parent folder\n",
    "* We access the current directory with os.getcwd()"
   ]
  },
  {
   "cell_type": "code",
   "execution_count": null,
   "id": "d14a441b",
   "metadata": {},
   "outputs": [],
   "source": [
    "import os\n",
    "current_dir = os.getcwd()\n",
    "current_dir"
   ]
  },
  {
   "cell_type": "markdown",
   "id": "ec14ea72",
   "metadata": {},
   "source": [
    "We want to make the parent of the current directory the new current directory\n",
    "* os.path.dirname() gets the parent directory\n",
    "* os.chdir() defines the new current directory"
   ]
  },
  {
   "cell_type": "code",
   "execution_count": null,
   "id": "98d9c221",
   "metadata": {},
   "outputs": [],
   "source": [
    "os.chdir(os.path.dirname(current_dir))\n",
    "print(\"You set a new current directory\")"
   ]
  },
  {
   "cell_type": "markdown",
   "id": "eff5012d",
   "metadata": {},
   "source": [
    "Confirm the new current directory"
   ]
  },
  {
   "cell_type": "code",
   "execution_count": null,
   "id": "a30d3f7d",
   "metadata": {},
   "outputs": [],
   "source": [
    "current_dir = os.getcwd()\n",
    "current_dir"
   ]
  },
  {
   "cell_type": "markdown",
   "id": "facfe88b",
   "metadata": {},
   "source": [
    "---"
   ]
  },
  {
   "cell_type": "markdown",
   "id": "c5e9ada8",
   "metadata": {},
   "source": [
    "# Load and Prepare Data for Tableau"
   ]
  },
  {
   "cell_type": "markdown",
   "id": "df971328",
   "metadata": {},
   "source": [
    "Load the cleaned dataset and prepare it for Tableau visualization"
   ]
  },
  {
   "cell_type": "code",
   "execution_count": null,
   "id": "e534839a",
   "metadata": {},
   "outputs": [],
   "source": [
    "# Import necessary libraries\n",
    "import pandas as pd\n",
    "import numpy as np"
   ]
  },
  {
   "cell_type": "code",
   "execution_count": null,
   "id": "00ac3940",
   "metadata": {},
   "outputs": [],
   "source": [
    "# Load the cleaned dataset\n",
    "df = pd.read_csv('data/inputs/cleaned_bank_data.csv')\n",
    "\n",
    "# Display basic information about the dataset\n",
    "print(f\"Dataset shape: {df.shape}\")\n",
    "df.head()"
   ]
  },
  {
   "cell_type": "markdown",
   "id": "f8e8867d",
   "metadata": {},
   "source": [
    "---"
   ]
  },
  {
   "cell_type": "markdown",
   "id": "ed4b46c4",
   "metadata": {},
   "source": [
    "# Data Transformations for Tableau"
   ]
  },
  {
   "cell_type": "markdown",
   "id": "281449b1",
   "metadata": {},
   "source": [
    "Apply any additional transformations needed for optimal Tableau visualization"
   ]
  },
  {
   "cell_type": "code",
   "execution_count": null,
   "id": "b9131a85",
   "metadata": {},
   "outputs": [],
   "source": [
    "# Add your data transformation code here\n",
    "# Example: Create categorical variables, format dates, etc."
   ]
  },
  {
   "cell_type": "markdown",
   "id": "88866c87",
   "metadata": {},
   "source": [
    "---"
   ]
  },
  {
   "cell_type": "markdown",
   "id": "887f7918",
   "metadata": {},
   "source": [
    "# Export Data for Tableau"
   ]
  },
  {
   "cell_type": "markdown",
   "id": "11882351",
   "metadata": {},
   "source": [
    "Export the final dataset in a format optimized for Tableau"
   ]
  },
  {
   "cell_type": "code",
   "execution_count": null,
   "id": "f85a74f5",
   "metadata": {},
   "outputs": [],
   "source": [
    "# Export the dataset for Tableau\n",
    "# tableau_data = df.copy()  # Make any final modifications here\n",
    "# tableau_data.to_csv('data/outputs/tableau_data.csv', index=False)\n",
    "# print(\"Data exported successfully for Tableau!\")"
   ]
  }
 ],
 "metadata": {
  "language_info": {
   "name": "python"
  }
 },
 "nbformat": 4,
 "nbformat_minor": 5
}
