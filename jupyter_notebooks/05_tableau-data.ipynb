{
 "cells": [
  {
   "cell_type": "markdown",
   "id": "68d389f9",
   "metadata": {},
   "source": [
    "# Tableau Data Preparation"
   ]
  },
  {
   "cell_type": "markdown",
   "id": "7f5d3836",
   "metadata": {},
   "source": [
    "## Objectives\n",
    "\n",
    "* Prepare and format data for Tableau visualization of all three hypotheses\n",
    "* Export cleaned datasets in optimal format for Tableau analysis\n",
    "* Create focused datasets for hypothesis testing in Tableau\n",
    "\n",
    "## Inputs\n",
    "\n",
    "* data/inputs/cleaned_bank_data.csv\n",
    "\n",
    "## Outputs\n",
    "\n",
    "* **hyp1_points_tableau.csv** - Points vs Attrition analysis\n",
    "* **hyp2_creditscore_tableau.csv** - Credit Score vs Attrition analysis  \n",
    "* **hyp3_tenure_tableau.csv** - Tenure vs Attrition analysis\n",
    "\n",
    "## Additional Comments\n",
    "\n",
    "* This notebook creates three focused datasets for Tableau dashboard creation\n",
    "* Each CSV contains the key variables for hypothesis testing with clear labels\n",
    "* All datasets include Attrition_Status column for better Tableau visualizations"
   ]
  },
  {
   "cell_type": "markdown",
   "id": "10be6c7a",
   "metadata": {},
   "source": [
    "---"
   ]
  },
  {
   "cell_type": "markdown",
   "id": "facfe88b",
   "metadata": {},
   "source": [
    "---"
   ]
  },
  {
   "cell_type": "markdown",
   "id": "c5e9ada8",
   "metadata": {},
   "source": [
    "# Load and Prepare Data for Tableau"
   ]
  },
  {
   "cell_type": "markdown",
   "id": "df971328",
   "metadata": {},
   "source": [
    "Load the cleaned dataset and prepare it for Tableau visualization"
   ]
  },
  {
   "cell_type": "code",
   "execution_count": 6,
   "id": "e534839a",
   "metadata": {},
   "outputs": [],
   "source": [
    "# Import necessary libraries\n",
    "import pandas as pd\n",
    "import numpy as np\n",
    "import os"
   ]
  },
  {
   "cell_type": "code",
   "execution_count": 7,
   "id": "00ac3940",
   "metadata": {},
   "outputs": [
    {
     "name": "stdout",
     "output_type": "stream",
     "text": [
      "Dataset shape: (10000, 19)\n"
     ]
    },
    {
     "data": {
      "text/html": [
       "<div>\n",
       "<style scoped>\n",
       "    .dataframe tbody tr th:only-of-type {\n",
       "        vertical-align: middle;\n",
       "    }\n",
       "\n",
       "    .dataframe tbody tr th {\n",
       "        vertical-align: top;\n",
       "    }\n",
       "\n",
       "    .dataframe thead th {\n",
       "        text-align: right;\n",
       "    }\n",
       "</style>\n",
       "<table border=\"1\" class=\"dataframe\">\n",
       "  <thead>\n",
       "    <tr style=\"text-align: right;\">\n",
       "      <th></th>\n",
       "      <th>Unnamed: 0</th>\n",
       "      <th>RowNumber</th>\n",
       "      <th>CustomerId</th>\n",
       "      <th>CreditScore</th>\n",
       "      <th>Geography</th>\n",
       "      <th>Gender</th>\n",
       "      <th>Age</th>\n",
       "      <th>Tenure</th>\n",
       "      <th>Balance</th>\n",
       "      <th>NumOfProducts</th>\n",
       "      <th>HasCrCard</th>\n",
       "      <th>IsActiveMember</th>\n",
       "      <th>EstimatedSalary</th>\n",
       "      <th>Exited</th>\n",
       "      <th>Complain</th>\n",
       "      <th>SatisfactionScore</th>\n",
       "      <th>CardType</th>\n",
       "      <th>PointEarned</th>\n",
       "      <th>AgeGroup</th>\n",
       "    </tr>\n",
       "  </thead>\n",
       "  <tbody>\n",
       "    <tr>\n",
       "      <th>0</th>\n",
       "      <td>0</td>\n",
       "      <td>1</td>\n",
       "      <td>15598695</td>\n",
       "      <td>619</td>\n",
       "      <td>France</td>\n",
       "      <td>Female</td>\n",
       "      <td>42</td>\n",
       "      <td>2</td>\n",
       "      <td>0.00</td>\n",
       "      <td>1</td>\n",
       "      <td>1</td>\n",
       "      <td>1</td>\n",
       "      <td>101348.88</td>\n",
       "      <td>1</td>\n",
       "      <td>1</td>\n",
       "      <td>2</td>\n",
       "      <td>DIAMOND</td>\n",
       "      <td>464</td>\n",
       "      <td>40-49</td>\n",
       "    </tr>\n",
       "    <tr>\n",
       "      <th>1</th>\n",
       "      <td>1</td>\n",
       "      <td>2</td>\n",
       "      <td>15649354</td>\n",
       "      <td>608</td>\n",
       "      <td>Spain</td>\n",
       "      <td>Female</td>\n",
       "      <td>41</td>\n",
       "      <td>1</td>\n",
       "      <td>83807.86</td>\n",
       "      <td>1</td>\n",
       "      <td>0</td>\n",
       "      <td>1</td>\n",
       "      <td>112542.58</td>\n",
       "      <td>0</td>\n",
       "      <td>1</td>\n",
       "      <td>3</td>\n",
       "      <td>DIAMOND</td>\n",
       "      <td>456</td>\n",
       "      <td>40-49</td>\n",
       "    </tr>\n",
       "    <tr>\n",
       "      <th>2</th>\n",
       "      <td>2</td>\n",
       "      <td>3</td>\n",
       "      <td>15737556</td>\n",
       "      <td>502</td>\n",
       "      <td>France</td>\n",
       "      <td>Female</td>\n",
       "      <td>42</td>\n",
       "      <td>8</td>\n",
       "      <td>159660.80</td>\n",
       "      <td>3</td>\n",
       "      <td>1</td>\n",
       "      <td>0</td>\n",
       "      <td>113931.57</td>\n",
       "      <td>1</td>\n",
       "      <td>1</td>\n",
       "      <td>3</td>\n",
       "      <td>DIAMOND</td>\n",
       "      <td>377</td>\n",
       "      <td>40-49</td>\n",
       "    </tr>\n",
       "    <tr>\n",
       "      <th>3</th>\n",
       "      <td>3</td>\n",
       "      <td>4</td>\n",
       "      <td>15671610</td>\n",
       "      <td>699</td>\n",
       "      <td>France</td>\n",
       "      <td>Female</td>\n",
       "      <td>39</td>\n",
       "      <td>1</td>\n",
       "      <td>0.00</td>\n",
       "      <td>2</td>\n",
       "      <td>0</td>\n",
       "      <td>0</td>\n",
       "      <td>93826.63</td>\n",
       "      <td>0</td>\n",
       "      <td>0</td>\n",
       "      <td>5</td>\n",
       "      <td>GOLD</td>\n",
       "      <td>350</td>\n",
       "      <td>30-39</td>\n",
       "    </tr>\n",
       "    <tr>\n",
       "      <th>4</th>\n",
       "      <td>4</td>\n",
       "      <td>5</td>\n",
       "      <td>15625092</td>\n",
       "      <td>850</td>\n",
       "      <td>Spain</td>\n",
       "      <td>Female</td>\n",
       "      <td>43</td>\n",
       "      <td>2</td>\n",
       "      <td>125510.82</td>\n",
       "      <td>1</td>\n",
       "      <td>1</td>\n",
       "      <td>1</td>\n",
       "      <td>79084.10</td>\n",
       "      <td>0</td>\n",
       "      <td>0</td>\n",
       "      <td>5</td>\n",
       "      <td>GOLD</td>\n",
       "      <td>425</td>\n",
       "      <td>40-49</td>\n",
       "    </tr>\n",
       "  </tbody>\n",
       "</table>\n",
       "</div>"
      ],
      "text/plain": [
       "   Unnamed: 0  RowNumber  CustomerId  CreditScore Geography  Gender  Age  \\\n",
       "0           0          1    15598695          619    France  Female   42   \n",
       "1           1          2    15649354          608     Spain  Female   41   \n",
       "2           2          3    15737556          502    France  Female   42   \n",
       "3           3          4    15671610          699    France  Female   39   \n",
       "4           4          5    15625092          850     Spain  Female   43   \n",
       "\n",
       "   Tenure    Balance  NumOfProducts  HasCrCard  IsActiveMember  \\\n",
       "0       2       0.00              1          1               1   \n",
       "1       1   83807.86              1          0               1   \n",
       "2       8  159660.80              3          1               0   \n",
       "3       1       0.00              2          0               0   \n",
       "4       2  125510.82              1          1               1   \n",
       "\n",
       "   EstimatedSalary  Exited  Complain  SatisfactionScore CardType  PointEarned  \\\n",
       "0        101348.88       1         1                  2  DIAMOND          464   \n",
       "1        112542.58       0         1                  3  DIAMOND          456   \n",
       "2        113931.57       1         1                  3  DIAMOND          377   \n",
       "3         93826.63       0         0                  5     GOLD          350   \n",
       "4         79084.10       0         0                  5     GOLD          425   \n",
       "\n",
       "  AgeGroup  \n",
       "0    40-49  \n",
       "1    40-49  \n",
       "2    40-49  \n",
       "3    30-39  \n",
       "4    40-49  "
      ]
     },
     "execution_count": 7,
     "metadata": {},
     "output_type": "execute_result"
    }
   ],
   "source": [
    "# Load the cleaned dataset\n",
    "df = pd.read_csv(\"../data/inputs/cleaned_bank_data.csv\")\n",
    "\n",
    "# Display basic information about the dataset\n",
    "print(f\"Dataset shape: {df.shape}\")\n",
    "df.head()"
   ]
  },
  {
   "cell_type": "markdown",
   "id": "f8e8867d",
   "metadata": {},
   "source": [
    "---"
   ]
  },
  {
   "cell_type": "markdown",
   "id": "ed4b46c4",
   "metadata": {},
   "source": [
    "# Data Transformations for Tableau"
   ]
  },
  {
   "cell_type": "markdown",
   "id": "281449b1",
   "metadata": {},
   "source": [
    "Apply any additional transformations needed for optimal Tableau visualization"
   ]
  },
  {
   "cell_type": "code",
   "execution_count": 8,
   "id": "b9131a85",
   "metadata": {},
   "outputs": [
    {
     "name": "stdout",
     "output_type": "stream",
     "text": [
      "✅ Hypothesis 1 data exported: hyp1_points_tableau.csv\n",
      "   Dataset shape: (10000, 3)\n",
      "✅ Hypothesis 2 data exported: hyp2_creditscore_tableau.csv\n",
      "   Dataset shape: (10000, 3)\n",
      "✅ Hypothesis 3 data exported: hyp3_tenure_tableau.csv\n",
      "   Dataset shape: (10000, 3)\n",
      "\n",
      " All three hypothesis datasets ready for Tableau analysis!\n",
      "\n",
      " Sample data preview:\n",
      "Hypothesis 1 (Points):\n"
     ]
    },
    {
     "data": {
      "text/html": [
       "<div>\n",
       "<style scoped>\n",
       "    .dataframe tbody tr th:only-of-type {\n",
       "        vertical-align: middle;\n",
       "    }\n",
       "\n",
       "    .dataframe tbody tr th {\n",
       "        vertical-align: top;\n",
       "    }\n",
       "\n",
       "    .dataframe thead th {\n",
       "        text-align: right;\n",
       "    }\n",
       "</style>\n",
       "<table border=\"1\" class=\"dataframe\">\n",
       "  <thead>\n",
       "    <tr style=\"text-align: right;\">\n",
       "      <th></th>\n",
       "      <th>Exited</th>\n",
       "      <th>PointEarned</th>\n",
       "      <th>Attrition_Status</th>\n",
       "    </tr>\n",
       "  </thead>\n",
       "  <tbody>\n",
       "    <tr>\n",
       "      <th>0</th>\n",
       "      <td>1</td>\n",
       "      <td>464</td>\n",
       "      <td>Attrited</td>\n",
       "    </tr>\n",
       "    <tr>\n",
       "      <th>1</th>\n",
       "      <td>0</td>\n",
       "      <td>456</td>\n",
       "      <td>Retained</td>\n",
       "    </tr>\n",
       "    <tr>\n",
       "      <th>2</th>\n",
       "      <td>1</td>\n",
       "      <td>377</td>\n",
       "      <td>Attrited</td>\n",
       "    </tr>\n",
       "  </tbody>\n",
       "</table>\n",
       "</div>"
      ],
      "text/plain": [
       "   Exited  PointEarned Attrition_Status\n",
       "0       1          464         Attrited\n",
       "1       0          456         Retained\n",
       "2       1          377         Attrited"
      ]
     },
     "metadata": {},
     "output_type": "display_data"
    },
    {
     "name": "stdout",
     "output_type": "stream",
     "text": [
      "\n",
      "Hypothesis 2 (Credit Score):\n"
     ]
    },
    {
     "data": {
      "text/html": [
       "<div>\n",
       "<style scoped>\n",
       "    .dataframe tbody tr th:only-of-type {\n",
       "        vertical-align: middle;\n",
       "    }\n",
       "\n",
       "    .dataframe tbody tr th {\n",
       "        vertical-align: top;\n",
       "    }\n",
       "\n",
       "    .dataframe thead th {\n",
       "        text-align: right;\n",
       "    }\n",
       "</style>\n",
       "<table border=\"1\" class=\"dataframe\">\n",
       "  <thead>\n",
       "    <tr style=\"text-align: right;\">\n",
       "      <th></th>\n",
       "      <th>Exited</th>\n",
       "      <th>CreditScore</th>\n",
       "      <th>Attrition_Status</th>\n",
       "    </tr>\n",
       "  </thead>\n",
       "  <tbody>\n",
       "    <tr>\n",
       "      <th>0</th>\n",
       "      <td>1</td>\n",
       "      <td>619</td>\n",
       "      <td>Attrited</td>\n",
       "    </tr>\n",
       "    <tr>\n",
       "      <th>1</th>\n",
       "      <td>0</td>\n",
       "      <td>608</td>\n",
       "      <td>Retained</td>\n",
       "    </tr>\n",
       "    <tr>\n",
       "      <th>2</th>\n",
       "      <td>1</td>\n",
       "      <td>502</td>\n",
       "      <td>Attrited</td>\n",
       "    </tr>\n",
       "  </tbody>\n",
       "</table>\n",
       "</div>"
      ],
      "text/plain": [
       "   Exited  CreditScore Attrition_Status\n",
       "0       1          619         Attrited\n",
       "1       0          608         Retained\n",
       "2       1          502         Attrited"
      ]
     },
     "metadata": {},
     "output_type": "display_data"
    },
    {
     "name": "stdout",
     "output_type": "stream",
     "text": [
      "\n",
      "Hypothesis 3 (Tenure):\n"
     ]
    },
    {
     "data": {
      "text/html": [
       "<div>\n",
       "<style scoped>\n",
       "    .dataframe tbody tr th:only-of-type {\n",
       "        vertical-align: middle;\n",
       "    }\n",
       "\n",
       "    .dataframe tbody tr th {\n",
       "        vertical-align: top;\n",
       "    }\n",
       "\n",
       "    .dataframe thead th {\n",
       "        text-align: right;\n",
       "    }\n",
       "</style>\n",
       "<table border=\"1\" class=\"dataframe\">\n",
       "  <thead>\n",
       "    <tr style=\"text-align: right;\">\n",
       "      <th></th>\n",
       "      <th>Exited</th>\n",
       "      <th>Tenure</th>\n",
       "      <th>Attrition_Status</th>\n",
       "    </tr>\n",
       "  </thead>\n",
       "  <tbody>\n",
       "    <tr>\n",
       "      <th>0</th>\n",
       "      <td>1</td>\n",
       "      <td>2</td>\n",
       "      <td>Attrited</td>\n",
       "    </tr>\n",
       "    <tr>\n",
       "      <th>1</th>\n",
       "      <td>0</td>\n",
       "      <td>1</td>\n",
       "      <td>Retained</td>\n",
       "    </tr>\n",
       "    <tr>\n",
       "      <th>2</th>\n",
       "      <td>1</td>\n",
       "      <td>8</td>\n",
       "      <td>Attrited</td>\n",
       "    </tr>\n",
       "  </tbody>\n",
       "</table>\n",
       "</div>"
      ],
      "text/plain": [
       "   Exited  Tenure Attrition_Status\n",
       "0       1       2         Attrited\n",
       "1       0       1         Retained\n",
       "2       1       8         Attrited"
      ]
     },
     "metadata": {},
     "output_type": "display_data"
    }
   ],
   "source": [
    "# Hypothesis 1: Points vs Attrition\n",
    "df_hyp1 = df[['Exited', 'PointEarned']].copy()\n",
    "df_hyp1['Attrition_Status'] = df_hyp1['Exited'].map({1: 'Attrited', 0: 'Retained'})\n",
    "df_hyp1.to_csv(\"../data/outputs/hyp1_points_tableau.csv\", index=False)\n",
    "print(\"✅ Hypothesis 1 data exported: hyp1_points_tableau.csv\")\n",
    "print(f\"   Dataset shape: {df_hyp1.shape}\")\n",
    "\n",
    "# Hypothesis 2: Credit Score vs Attrition  \n",
    "df_hyp2 = df[['Exited', 'CreditScore']].copy()\n",
    "df_hyp2['Attrition_Status'] = df_hyp2['Exited'].map({1: 'Attrited', 0: 'Retained'})\n",
    "df_hyp2.to_csv(\"../data/outputs/hyp2_creditscore_tableau.csv\", index=False)\n",
    "print(\"✅ Hypothesis 2 data exported: hyp2_creditscore_tableau.csv\")\n",
    "print(f\"   Dataset shape: {df_hyp2.shape}\")\n",
    "\n",
    "# Hypothesis 3: Tenure vs Attrition\n",
    "df_hyp3 = df[['Exited', 'Tenure']].copy()\n",
    "df_hyp3['Attrition_Status'] = df_hyp3['Exited'].map({1: 'Attrited', 0: 'Retained'})\n",
    "df_hyp3.to_csv(\"../data/outputs/hyp3_tenure_tableau.csv\", index=False)\n",
    "print(\"✅ Hypothesis 3 data exported: hyp3_tenure_tableau.csv\")\n",
    "print(f\"   Dataset shape: {df_hyp3.shape}\")\n",
    "\n",
    "print(\"\\n All three hypothesis datasets ready for Tableau analysis!\")\n",
    "\n",
    "# Display sample of each dataset\n",
    "print(\"\\n Sample data preview:\")\n",
    "print(\"Hypothesis 1 (Points):\")\n",
    "display(df_hyp1.head(3))\n",
    "print(\"\\nHypothesis 2 (Credit Score):\")\n",
    "display(df_hyp2.head(3))\n",
    "print(\"\\nHypothesis 3 (Tenure):\")\n",
    "display(df_hyp3.head(3))"
   ]
  },
  {
   "cell_type": "markdown",
   "id": "88866c87",
   "metadata": {},
   "source": [
    "---"
   ]
  },
  {
   "cell_type": "markdown",
   "id": "887f7918",
   "metadata": {},
   "source": [
    "# Export Data for Tableau"
   ]
  },
  {
   "cell_type": "markdown",
   "id": "11882351",
   "metadata": {},
   "source": [
    "Export the final dataset in a format optimized for Tableau"
   ]
  },
  {
   "cell_type": "code",
   "execution_count": 9,
   "id": "f85a74f5",
   "metadata": {},
   "outputs": [
    {
     "name": "stdout",
     "output_type": "stream",
     "text": [
      "TABLEAU EXPORT SUMMARY\n",
      "==================================================\n",
      "SUCCESS: ../data/outputs/hyp1_points_tableau.csv - 160,050 bytes\n",
      "SUCCESS: ../data/outputs/hyp2_creditscore_tableau.csv - 160,037 bytes\n",
      "SUCCESS: ../data/outputs/hyp3_tenure_tableau.csv - 140,522 bytes\n",
      "\n",
      "All datasets are ready for Tableau analysis!\n",
      "Each file contains 10,000 rows with Attrition_Status labels\n",
      "Import these files into Tableau to create hypothesis dashboards\n"
     ]
    }
   ],
   "source": [
    "# Summary of Exported Tableau Datasets\n",
    "\n",
    "print(\"TABLEAU EXPORT SUMMARY\")\n",
    "print(\"=\" * 50)\n",
    "\n",
    "# Check if all files were created successfully\n",
    "files_to_check = [\n",
    "    \"../data/outputs/hyp1_points_tableau.csv\",\n",
    "    \"../data/outputs/hyp2_creditscore_tableau.csv\", \n",
    "    \"../data/outputs/hyp3_tenure_tableau.csv\"\n",
    "]\n",
    "\n",
    "for file in files_to_check:\n",
    "    if os.path.exists(file):\n",
    "        file_size = os.path.getsize(file)\n",
    "        print(f\"SUCCESS: {file} - {file_size:,} bytes\")\n",
    "    else:\n",
    "        print(f\"ERROR: {file} - NOT FOUND\")\n",
    "\n",
    "print(\"\\nAll datasets are ready for Tableau analysis!\")\n",
    "print(\"Each file contains 10,000 rows with Attrition_Status labels\")\n",
    "print(\"Import these files into Tableau to create hypothesis dashboards\")"
   ]
  }
 ],
 "metadata": {
  "kernelspec": {
   "display_name": ".venv",
   "language": "python",
   "name": "python3"
  },
  "language_info": {
   "codemirror_mode": {
    "name": "ipython",
    "version": 3
   },
   "file_extension": ".py",
   "mimetype": "text/x-python",
   "name": "python",
   "nbconvert_exporter": "python",
   "pygments_lexer": "ipython3",
   "version": "3.12.8"
  }
 },
 "nbformat": 4,
 "nbformat_minor": 5
}
